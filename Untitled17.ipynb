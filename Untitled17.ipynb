{
 "cells": [
  {
   "cell_type": "code",
   "execution_count": 117,
   "id": "18edf2a6-cac7-4f35-bd6d-4740f0a0bad1",
   "metadata": {},
   "outputs": [],
   "source": [
    "import pandas as pd\n",
    "import numpy as np\n",
    "from bs4 import BeautifulSoup\n",
    "import requests \n",
    "import matplotlib.pyplot as plt\n",
    "import seaborn as sns\n",
    "from wordcloud import WordCloud\n",
    "from sklearn.feature_extraction.text import TfidfVectorizer\n",
    "from sklearn.model_selection import train_test_split\n",
    "from sklearn.linear_model import LogisticRegression\n",
    "from sklearn.metrics import classification_report\n",
    "import warnings\n",
    "warnings.simplefilter(action='ignore', category=FutureWarning)\n"
   ]
  },
  {
   "cell_type": "code",
   "execution_count": 73,
   "id": "95a6b630-d0c5-4703-afd4-59eff795ea19",
   "metadata": {},
   "outputs": [],
   "source": [
    "#create an empty list to collect all reviews\n",
    "reviews  = []\n",
    "\n",
    "#create an empty list to collect rating stars\n",
    "stars = []\n",
    "\n",
    "#create an empty list to collect date\n",
    "date = []\n",
    "\n",
    "#create an empty list to collect country the reviewer is from\n",
    "country = []"
   ]
  },
  {
   "cell_type": "code",
   "execution_count": 74,
   "id": "8b3fbfed-27a3-4a7f-8b3c-329f9ebbf2b1",
   "metadata": {},
   "outputs": [
    {
     "name": "stdout",
     "output_type": "stream",
     "text": [
      "Error on page 34\n",
      "Error on page 35\n"
     ]
    }
   ],
   "source": [
    "for i in range(1, 36):\n",
    "    page = requests.get(f\"https://www.airlinequality.com/airline-reviews/british-airways/page/{i}/?sortby=post_date%3ADesc&pagesize=100\")\n",
    "    \n",
    "    soup = BeautifulSoup(page.content, \"html5\")\n",
    "    \n",
    "    for item in soup.find_all(\"div\", class_=\"text_content\"):\n",
    "        reviews.append(item.text)\n",
    "    \n",
    "    for item in soup.find_all(\"div\", class_ = \"rating-10\"):\n",
    "        try:\n",
    "            stars.append(item.span.text)\n",
    "        except:\n",
    "            print(f\"Error on page {i}\")\n",
    "            stars.append(\"None\")\n",
    "            \n",
    "    #date\n",
    "    for item in soup.find_all(\"time\"):\n",
    "        date.append(item.text)\n",
    "        \n",
    "    #country\n",
    "    for item in soup.find_all(\"h3\"):\n",
    "        country.append(item.span.next_sibling.text.strip(\" ()\"))"
   ]
  },
  {
   "cell_type": "code",
   "execution_count": 75,
   "id": "45a26607-1868-4814-a743-c6d728927aab",
   "metadata": {},
   "outputs": [
    {
     "data": {
      "text/plain": [
       "3500"
      ]
     },
     "execution_count": 75,
     "metadata": {},
     "output_type": "execute_result"
    }
   ],
   "source": [
    "#check the length of total reviews extracted\n",
    "len(reviews)"
   ]
  },
  {
   "cell_type": "code",
   "execution_count": 76,
   "id": "eaab9868-47b0-47e4-ae3b-14ec520a3d66",
   "metadata": {},
   "outputs": [
    {
     "data": {
      "text/plain": [
       "3500"
      ]
     },
     "execution_count": 76,
     "metadata": {},
     "output_type": "execute_result"
    }
   ],
   "source": [
    "len(country)"
   ]
  },
  {
   "cell_type": "code",
   "execution_count": 77,
   "id": "c78412a1-31ae-430d-91b9-ef5cd6c10ed2",
   "metadata": {},
   "outputs": [
    {
     "name": "stdout",
     "output_type": "stream",
     "text": [
      "3500 3535 3500 3500\n"
     ]
    }
   ],
   "source": [
    "print(len(reviews), len(stars), len(date), len(country))\n"
   ]
  },
  {
   "cell_type": "code",
   "execution_count": 78,
   "id": "310e487b-d6a4-43ca-a266-729a28c27fda",
   "metadata": {},
   "outputs": [],
   "source": [
    "stars = stars[:3500]\n"
   ]
  },
  {
   "cell_type": "code",
   "execution_count": 79,
   "id": "3014ac78-5ded-40c6-ac2c-4d15f2a11714",
   "metadata": {},
   "outputs": [],
   "source": [
    "import pandas as pd\n",
    "\n",
    "df = pd.DataFrame({\n",
    "    \"reviews\": reviews,\n",
    "    \"stars\": stars,\n",
    "    \"date\": date,\n",
    "    \"country\": country\n",
    "})\n"
   ]
  },
  {
   "cell_type": "code",
   "execution_count": 80,
   "id": "c049939e-0e40-473e-9cad-b19c8587e400",
   "metadata": {},
   "outputs": [
    {
     "data": {
      "text/html": [
       "<div>\n",
       "<style scoped>\n",
       "    .dataframe tbody tr th:only-of-type {\n",
       "        vertical-align: middle;\n",
       "    }\n",
       "\n",
       "    .dataframe tbody tr th {\n",
       "        vertical-align: top;\n",
       "    }\n",
       "\n",
       "    .dataframe thead th {\n",
       "        text-align: right;\n",
       "    }\n",
       "</style>\n",
       "<table border=\"1\" class=\"dataframe\">\n",
       "  <thead>\n",
       "    <tr style=\"text-align: right;\">\n",
       "      <th></th>\n",
       "      <th>reviews</th>\n",
       "      <th>stars</th>\n",
       "      <th>date</th>\n",
       "      <th>country</th>\n",
       "    </tr>\n",
       "  </thead>\n",
       "  <tbody>\n",
       "    <tr>\n",
       "      <th>0</th>\n",
       "      <td>✅ Trip Verified |   We are extremely grateful ...</td>\n",
       "      <td>\\n\\t\\t\\t\\t\\t\\t\\t\\t\\t\\t\\t\\t5</td>\n",
       "      <td>8th May 2025</td>\n",
       "      <td>Switzerland</td>\n",
       "    </tr>\n",
       "    <tr>\n",
       "      <th>1</th>\n",
       "      <td>✅ Trip Verified |   I had an appalling experie...</td>\n",
       "      <td>10</td>\n",
       "      <td>29th April 2025</td>\n",
       "      <td>South Africa</td>\n",
       "    </tr>\n",
       "    <tr>\n",
       "      <th>2</th>\n",
       "      <td>Not Verified |  Good points, the cabin crew, t...</td>\n",
       "      <td>3</td>\n",
       "      <td>22nd April 2025</td>\n",
       "      <td>United Kingdom</td>\n",
       "    </tr>\n",
       "    <tr>\n",
       "      <th>3</th>\n",
       "      <td>Not Verified |  It was a decent flight, reason...</td>\n",
       "      <td>6</td>\n",
       "      <td>22nd April 2025</td>\n",
       "      <td>United Kingdom</td>\n",
       "    </tr>\n",
       "    <tr>\n",
       "      <th>4</th>\n",
       "      <td>✅ Trip Verified |   I really like flying Briti...</td>\n",
       "      <td>6</td>\n",
       "      <td>18th April 2025</td>\n",
       "      <td>Australia</td>\n",
       "    </tr>\n",
       "  </tbody>\n",
       "</table>\n",
       "</div>"
      ],
      "text/plain": [
       "                                             reviews  \\\n",
       "0  ✅ Trip Verified |   We are extremely grateful ...   \n",
       "1  ✅ Trip Verified |   I had an appalling experie...   \n",
       "2  Not Verified |  Good points, the cabin crew, t...   \n",
       "3  Not Verified |  It was a decent flight, reason...   \n",
       "4  ✅ Trip Verified |   I really like flying Briti...   \n",
       "\n",
       "                         stars             date         country  \n",
       "0  \\n\\t\\t\\t\\t\\t\\t\\t\\t\\t\\t\\t\\t5     8th May 2025     Switzerland  \n",
       "1                           10  29th April 2025    South Africa  \n",
       "2                            3  22nd April 2025  United Kingdom  \n",
       "3                            6  22nd April 2025  United Kingdom  \n",
       "4                            6  18th April 2025       Australia  "
      ]
     },
     "execution_count": 80,
     "metadata": {},
     "output_type": "execute_result"
    }
   ],
   "source": [
    "df.head()"
   ]
  },
  {
   "cell_type": "code",
   "execution_count": 81,
   "id": "da126c04-9887-4145-b1cd-4f43eb705994",
   "metadata": {},
   "outputs": [],
   "source": [
    "import re\n",
    "# Create new lists for the verification status and cleaned reviews\n",
    "verification_status = []\n",
    "cleaned_reviews = []\n",
    "\n",
    "# Loop through the reviews to separate the verification status and clean the text\n",
    "for review in reviews:\n",
    "    if \"✅\" in review or \"Not Verified\" in review:\n",
    "        # Check if review contains \"✅\" (Verified) or \"Not Verified\"\n",
    "        if \"✅\" in review:\n",
    "            verification_status.append(\"Verified\")\n",
    "            cleaned_reviews.append(re.sub(r'✅|Trip Verified', '', review).strip())\n",
    "        elif \"Not Verified\" in review:\n",
    "            verification_status.append(\"Not Verified\")\n",
    "            cleaned_reviews.append(re.sub(r'Not Verified', '', review).strip())\n",
    "    else:\n",
    "        verification_status.append(\"Not Verified\")\n",
    "        cleaned_reviews.append(review)\n",
    "\n",
    "# Now, create the DataFrame with the new structure\n",
    "df = pd.DataFrame({\n",
    "    \"reviews\": cleaned_reviews,\n",
    "    \"stars\": stars,\n",
    "    \"date\": date,\n",
    "    \"country\": country,\n",
    "    \"verification_status\": verification_status  \n",
    "})\n"
   ]
  },
  {
   "cell_type": "code",
   "execution_count": 82,
   "id": "bcad3715-9f00-40cf-bebc-ab7b91d05fa8",
   "metadata": {},
   "outputs": [
    {
     "data": {
      "text/html": [
       "<div>\n",
       "<style scoped>\n",
       "    .dataframe tbody tr th:only-of-type {\n",
       "        vertical-align: middle;\n",
       "    }\n",
       "\n",
       "    .dataframe tbody tr th {\n",
       "        vertical-align: top;\n",
       "    }\n",
       "\n",
       "    .dataframe thead th {\n",
       "        text-align: right;\n",
       "    }\n",
       "</style>\n",
       "<table border=\"1\" class=\"dataframe\">\n",
       "  <thead>\n",
       "    <tr style=\"text-align: right;\">\n",
       "      <th></th>\n",
       "      <th>reviews</th>\n",
       "      <th>stars</th>\n",
       "      <th>date</th>\n",
       "      <th>country</th>\n",
       "      <th>verification_status</th>\n",
       "    </tr>\n",
       "  </thead>\n",
       "  <tbody>\n",
       "    <tr>\n",
       "      <th>0</th>\n",
       "      <td>|   We are extremely grateful to the crew of f...</td>\n",
       "      <td>\\n\\t\\t\\t\\t\\t\\t\\t\\t\\t\\t\\t\\t5</td>\n",
       "      <td>8th May 2025</td>\n",
       "      <td>Switzerland</td>\n",
       "      <td>Verified</td>\n",
       "    </tr>\n",
       "    <tr>\n",
       "      <th>1</th>\n",
       "      <td>|   I had an appalling experience with British...</td>\n",
       "      <td>10</td>\n",
       "      <td>29th April 2025</td>\n",
       "      <td>South Africa</td>\n",
       "      <td>Verified</td>\n",
       "    </tr>\n",
       "    <tr>\n",
       "      <th>2</th>\n",
       "      <td>|  Good points, the cabin crew, they were help...</td>\n",
       "      <td>3</td>\n",
       "      <td>22nd April 2025</td>\n",
       "      <td>United Kingdom</td>\n",
       "      <td>Not Verified</td>\n",
       "    </tr>\n",
       "    <tr>\n",
       "      <th>3</th>\n",
       "      <td>|  It was a decent flight, reasonable comforta...</td>\n",
       "      <td>6</td>\n",
       "      <td>22nd April 2025</td>\n",
       "      <td>United Kingdom</td>\n",
       "      <td>Not Verified</td>\n",
       "    </tr>\n",
       "    <tr>\n",
       "      <th>4</th>\n",
       "      <td>|   I really like flying British Airways parti...</td>\n",
       "      <td>6</td>\n",
       "      <td>18th April 2025</td>\n",
       "      <td>Australia</td>\n",
       "      <td>Verified</td>\n",
       "    </tr>\n",
       "  </tbody>\n",
       "</table>\n",
       "</div>"
      ],
      "text/plain": [
       "                                             reviews  \\\n",
       "0  |   We are extremely grateful to the crew of f...   \n",
       "1  |   I had an appalling experience with British...   \n",
       "2  |  Good points, the cabin crew, they were help...   \n",
       "3  |  It was a decent flight, reasonable comforta...   \n",
       "4  |   I really like flying British Airways parti...   \n",
       "\n",
       "                         stars             date         country  \\\n",
       "0  \\n\\t\\t\\t\\t\\t\\t\\t\\t\\t\\t\\t\\t5     8th May 2025     Switzerland   \n",
       "1                           10  29th April 2025    South Africa   \n",
       "2                            3  22nd April 2025  United Kingdom   \n",
       "3                            6  22nd April 2025  United Kingdom   \n",
       "4                            6  18th April 2025       Australia   \n",
       "\n",
       "  verification_status  \n",
       "0            Verified  \n",
       "1            Verified  \n",
       "2        Not Verified  \n",
       "3        Not Verified  \n",
       "4            Verified  "
      ]
     },
     "execution_count": 82,
     "metadata": {},
     "output_type": "execute_result"
    }
   ],
   "source": [
    "df.head()"
   ]
  },
  {
   "cell_type": "code",
   "execution_count": 83,
   "id": "d432a721-d32e-4ab2-a296-f0bdc1090743",
   "metadata": {},
   "outputs": [
    {
     "name": "stdout",
     "output_type": "stream",
     "text": [
      "Data saved to 'british_airways_reviews_cleaned.csv'\n"
     ]
    }
   ],
   "source": [
    "# Save the DataFrame to a CSV file\n",
    "df.to_csv('british_airways_reviews_cleaned.csv', index=False)\n",
    "\n",
    "# Confirm the data has been saved\n",
    "print(\"Data saved to 'british_airways_reviews_cleaned.csv'\")\n"
   ]
  },
  {
   "cell_type": "code",
   "execution_count": 84,
   "id": "cba4b8c3-6d90-4d1b-b6f7-4fda8a5db789",
   "metadata": {},
   "outputs": [
    {
     "data": {
      "text/plain": [
       "(3500, 5)"
      ]
     },
     "execution_count": 84,
     "metadata": {},
     "output_type": "execute_result"
    }
   ],
   "source": [
    "df.shape"
   ]
  },
  {
   "cell_type": "markdown",
   "id": "d9b01555-3fbd-4644-984a-e169fcbd7dc5",
   "metadata": {},
   "source": [
    "# Data Cleaning "
   ]
  },
  {
   "cell_type": "code",
   "execution_count": 86,
   "id": "a49f4319-fabb-4735-a772-143f540ae123",
   "metadata": {},
   "outputs": [
    {
     "name": "stdout",
     "output_type": "stream",
     "text": [
      "<class 'pandas.core.frame.DataFrame'>\n",
      "RangeIndex: 3500 entries, 0 to 3499\n",
      "Data columns (total 5 columns):\n",
      " #   Column               Non-Null Count  Dtype \n",
      "---  ------               --------------  ----- \n",
      " 0   reviews              3500 non-null   object\n",
      " 1   stars                3500 non-null   object\n",
      " 2   date                 3500 non-null   object\n",
      " 3   country              3500 non-null   object\n",
      " 4   verification_status  3500 non-null   object\n",
      "dtypes: object(5)\n",
      "memory usage: 136.8+ KB\n"
     ]
    }
   ],
   "source": [
    "df.info()"
   ]
  },
  {
   "cell_type": "code",
   "execution_count": 87,
   "id": "45125029-1fc4-47c1-b582-a3340abc5f5b",
   "metadata": {},
   "outputs": [
    {
     "data": {
      "text/plain": [
       "reviews                0\n",
       "stars                  0\n",
       "date                   0\n",
       "country                0\n",
       "verification_status    0\n",
       "dtype: int64"
      ]
     },
     "execution_count": 87,
     "metadata": {},
     "output_type": "execute_result"
    }
   ],
   "source": [
    "# checking for missing values\n",
    "df.isnull().sum()"
   ]
  },
  {
   "cell_type": "markdown",
   "id": "c833afa9-30ab-49d4-838b-fe465c87a1a1",
   "metadata": {},
   "source": [
    "Our data has no any missing values "
   ]
  },
  {
   "cell_type": "code",
   "execution_count": 89,
   "id": "8bbf8909-f0b1-4c2c-aa88-239e84cf01b4",
   "metadata": {},
   "outputs": [
    {
     "name": "stdout",
     "output_type": "stream",
     "text": [
      "Index(['reviews', 'stars', 'date', 'country', 'verification_status'], dtype='object')\n"
     ]
    },
    {
     "data": {
      "text/plain": [
       "array(['\\n\\t\\t\\t\\t\\t\\t\\t\\t\\t\\t\\t\\t5', '10', '3', '6', '5', '1', '7', '9',\n",
       "       '4', '2', '8', 'None'], dtype=object)"
      ]
     },
     "execution_count": 89,
     "metadata": {},
     "output_type": "execute_result"
    }
   ],
   "source": [
    "# Check the column names\n",
    "print(df.columns)\n",
    "\n",
    "# column name used to get unique values\n",
    "df['stars'].unique()\n"
   ]
  },
  {
   "cell_type": "code",
   "execution_count": 90,
   "id": "c1b44da9-a572-4e73-9884-5853db615891",
   "metadata": {},
   "outputs": [
    {
     "data": {
      "text/plain": [
       "array(['5', '10', '3', '6', '1', '7', '9', '4', '2', '8', 'None'],\n",
       "      dtype=object)"
      ]
     },
     "execution_count": 90,
     "metadata": {},
     "output_type": "execute_result"
    }
   ],
   "source": [
    "# Clean the 'stars' column by removing unwanted whitespace and characters\n",
    "df['stars'] = df['stars'].str.strip().str.replace(r'[\\n\\t]', '', regex=True)\n",
    "\n",
    "# checking  the unique values \n",
    "df['stars'].unique()\n"
   ]
  },
  {
   "cell_type": "code",
   "execution_count": 91,
   "id": "31bd8b04-9e4e-498e-a291-b6af359d1bf2",
   "metadata": {},
   "outputs": [
    {
     "data": {
      "text/plain": [
       "0"
      ]
     },
     "execution_count": 91,
     "metadata": {},
     "output_type": "execute_result"
    }
   ],
   "source": [
    "#checking for duplicates \n",
    "df.duplicated().sum()"
   ]
  },
  {
   "cell_type": "code",
   "execution_count": 92,
   "id": "12eccc36-fce6-4189-971a-6792d5353bd1",
   "metadata": {},
   "outputs": [],
   "source": [
    "# Clean the 'stars' column: remove any whitespace or newlines and convert to integer\n",
    "df['stars'] = df['stars'].astype(str).str.extract('(\\d+)').astype(float)\n",
    "\n",
    "# Clean 'date' column\n",
    "df['date'] = pd.to_datetime(df['date'], errors='coerce')\n",
    "\n",
    "# Clean 'verification_status' column: strip whitespaces\n",
    "df['verification_status'] = df['verification_status'].str.strip()"
   ]
  },
  {
   "cell_type": "markdown",
   "id": "7fa601eb-7802-4347-9d64-187c79571fa4",
   "metadata": {},
   "source": [
    "# Data Analysis "
   ]
  },
  {
   "cell_type": "code",
   "execution_count": 119,
   "id": "ba47efc5-3f5d-4b7b-b485-7bf57693cf2b",
   "metadata": {},
   "outputs": [
    {
     "data": {
      "image/png": "[encoded data removed]",
      "text/plain": [
       "<Figure size 800x500 with 1 Axes>"
      ]
     },
     "metadata": {},
     "output_type": "display_data"
    }
   ],
   "source": [
    "# 1. Star Rating Distribution ---\n",
    "plt.figure(figsize=(8, 5))\n",
    "sns.countplot(x='stars', data=df, palette='viridis')\n",
    "plt.title('Distribution of Star Ratings')\n",
    "plt.xlabel('Star Rating')\n",
    "plt.ylabel('Number of Reviews')\n",
    "plt.tight_layout()\n",
    "plt.show()"
   ]
  },
  {
   "cell_type": "markdown",
   "id": "5f5c466d-bac8-4eeb-93f8-801c90ac6ad9",
   "metadata": {},
   "source": [
    "Most of the ratings are polarised between groups who score the most extremely low (1 star) and the most highly (almost 10 stars), meaning viewings are very polarised. Most reviews either showed extreme dissatisfaction with 1 star (900 reviews) or, conversely, satisfaction with 9 and 10 stars (270 reviews); the medium scores were rarer. Both extreme experiences, one excellent and the other disappointing, attract more attention and responses than average ones."
   ]
  },
  {
   "cell_type": "code",
   "execution_count": 121,
   "id": "acd2ea6c-6219-4500-8b62-f4b7e57ccc88",
   "metadata": {},
   "outputs": [
    {
     "data": {
      "image/png": "[encoded data removed]",
      "text/plain": [
       "<Figure size 800x500 with 1 Axes>"
      ]
     },
     "metadata": {},
     "output_type": "display_data"
    }
   ],
   "source": [
    "# --- 2. Reviews by Verification Status ---\n",
    "plt.figure(figsize=(8, 5))\n",
    "sns.countplot(x='verification_status', data=df, palette='coolwarm')\n",
    "plt.title('Verification Status of Reviews')\n",
    "plt.xlabel('Verification Status')\n",
    "plt.ylabel('Count')\n",
    "plt.xticks(rotation=15)\n",
    "plt.tight_layout()\n",
    "plt.show()"
   ]
  },
  {
   "cell_type": "markdown",
   "id": "8c9c2830-616a-4d35-876e-8887cdd9f055",
   "metadata": {},
   "source": [
    "The data shows that approximately 60% of all reviews are authenticated, and 40% are not verified. Reviews that testify to a real customer experience support the formation of a more accurate feedback base. However, given the plethora of unverified feedback, questions about its validity become understandable. This adds much value to the earlier star rating breakdown that was formed by encouraging the reviewers to improve their reliability."
   ]
  },
  {
   "cell_type": "code",
   "execution_count": 125,
   "id": "d300cfec-e4cf-494f-942a-a1cc340133f9",
   "metadata": {},
   "outputs": [
    {
     "data": {
      "image/png": "[encoded data removed]",
      "text/plain": [
       "<Figure size 1000x600 with 1 Axes>"
      ]
     },
     "metadata": {},
     "output_type": "display_data"
    }
   ],
   "source": [
    "# --- 3. Average Star Rating by Country (Top 10 countries) ---\n",
    "top_countries = df['country'].value_counts().head(10).index\n",
    "avg_by_country = df[df['country'].isin(top_countries)].groupby('country')['stars'].mean().sort_values(ascending=False)\n",
    "plt.figure(figsize=(10, 6))\n",
    "avg_by_country.plot(kind='bar', color='teal')\n",
    "plt.title('Average Star Rating by Country (Top 10)')\n",
    "plt.ylabel('Average Star Rating')\n",
    "plt.xlabel('Country')\n",
    "plt.xticks(rotation=45)\n",
    "plt.tight_layout()\n",
    "plt.show()"
   ]
  },
  {
   "cell_type": "markdown",
   "id": "bf079406-055e-4db5-bf1f-45c41cf1de3f",
   "metadata": {},
   "source": [
    "Based on the graph, countries come in between Switzerland’s top average of 5.2 stars and Germany’s bottom, at 3.9 stars. Ireland, Australia, and the UK add to only the higher score range of 4.7 – 5.0, and the U.S., Singapore, and the Netherlands fall overall within the lower band. Such a gap may be attributed to differences in cultural attitudes regarding rating, the range of services offered in different countries, and personal conceptions in customers’ minds. Though sensible disparity exists, all region-specific averages exceed 3.9, implying general positive customer sentiment around the globe."
   ]
  },
  {
   "cell_type": "code",
   "execution_count": 127,
   "id": "e0098d11-8798-46f9-bdfe-acd105fc264b",
   "metadata": {},
   "outputs": [
    {
     "data": {
      "image/png": "[encoded data removed]",
      "text/plain": [
       "<Figure size 1200x600 with 1 Axes>"
      ]
     },
     "metadata": {},
     "output_type": "display_data"
    }
   ],
   "source": [
    "# --- 4. Reviews Over Time ---\n",
    "monthly_reviews = df.set_index('date').resample('M').size()\n",
    "\n",
    "plt.figure(figsize=(12, 6))\n",
    "monthly_reviews.plot()\n",
    "plt.title('Review Count Over Time')\n",
    "plt.ylabel('Number of Reviews')\n",
    "plt.xlabel('Date')\n",
    "plt.grid(True)\n",
    "plt.tight_layout()\n",
    "plt.show()"
   ]
  },
  {
   "cell_type": "markdown",
   "id": "68fc2dc5-1889-4f37-a1d5-a38a6c500a0c",
   "metadata": {},
   "source": [
    "The graph shows review submissions from 2015-2025, with noticeable spikes at the beginning of 2015 and 2016, and it is a downward trend overall. Review activity was especially active and volatile between the years 2015 and 2017, then calmed at a moderate level between 2018 and 2019. The COVID-19 pandemic clearly had some influence on the sharp decline in review activity from 2020 to 2021, culminating in the near absence of reviews in mid-2020/early 2021, respectively. Subsequently, there has been a small improvement in the number of reviews after 2022, but volumes have slowed to a far smaller plateau. This suggests that there is still a constant customer base for the product, although the engagement has decreased over time because it is advanced."
   ]
  },
  {
   "cell_type": "code",
   "execution_count": 131,
   "id": "683a5715-dd54-446c-b236-f344072da760",
   "metadata": {},
   "outputs": [
    {
     "data": {
      "image/png": "[encoded data removed]",
      "text/plain": [
       "<Figure size 800x500 with 1 Axes>"
      ]
     },
     "metadata": {},
     "output_type": "display_data"
    }
   ],
   "source": [
    " # 5. Optional: Word Count per Review ---\n",
    "df['word_count'] = df['reviews'].astype(str).apply(lambda x: len(x.split()))\n",
    "plt.figure(figsize=(8, 5))\n",
    "sns.histplot(df['word_count'], bins=30, color='orange')\n",
    "plt.title('Distribution of Word Count in Reviews')\n",
    "plt.xlabel('Word Count')\n",
    "plt.ylabel('Frequency')\n",
    "plt.tight_layout()\n",
    "plt.show()"
   ]
  },
  {
   "cell_type": "markdown",
   "id": "c1bef019-2725-4737-bc7a-548c04e2a9d6",
   "metadata": {},
   "source": [
    "The majority of the histograms’ reviews are short in length, and the data indicates a right-skew distribution. The peak distribution of reviews is 100 words, and over half of all reviews are between 50 and 200 words. The longer the review is, the fewer submissions there are – few readers contribute reviews of over 500 words. The pattern observed corresponds to normal online review behavior, which is to provide concise feedback, while lengthy reviews are predominant in a small selection of users. The fact that the bulk of reviews are short shows that users want a simple and quick feedback process, giving insights into how to improve the solicitation method."
   ]
  },
  {
   "cell_type": "code",
   "execution_count": 137,
   "id": "7306da24-b06d-49ba-8d21-31bfd25f5f5a",
   "metadata": {},
   "outputs": [
    {
     "name": "stdout",
     "output_type": "stream",
     "text": [
      "\n",
      "Summary Statistics:\n",
      "\n"
     ]
    },
    {
     "data": {
      "text/html": [
       "<div>\n",
       "<style scoped>\n",
       "    .dataframe tbody tr th:only-of-type {\n",
       "        vertical-align: middle;\n",
       "    }\n",
       "\n",
       "    .dataframe tbody tr th {\n",
       "        vertical-align: top;\n",
       "    }\n",
       "\n",
       "    .dataframe thead th {\n",
       "        text-align: right;\n",
       "    }\n",
       "</style>\n",
       "<table border=\"1\" class=\"dataframe\">\n",
       "  <thead>\n",
       "    <tr style=\"text-align: right;\">\n",
       "      <th></th>\n",
       "      <th>reviews</th>\n",
       "      <th>stars</th>\n",
       "      <th>date</th>\n",
       "      <th>country</th>\n",
       "      <th>verification_status</th>\n",
       "      <th>word_count</th>\n",
       "    </tr>\n",
       "  </thead>\n",
       "  <tbody>\n",
       "    <tr>\n",
       "      <th>count</th>\n",
       "      <td>3500</td>\n",
       "      <td>3499.000000</td>\n",
       "      <td>2771</td>\n",
       "      <td>3500</td>\n",
       "      <td>3500</td>\n",
       "      <td>3500.000000</td>\n",
       "    </tr>\n",
       "    <tr>\n",
       "      <th>unique</th>\n",
       "      <td>3494</td>\n",
       "      <td>NaN</td>\n",
       "      <td>NaN</td>\n",
       "      <td>72</td>\n",
       "      <td>2</td>\n",
       "      <td>NaN</td>\n",
       "    </tr>\n",
       "    <tr>\n",
       "      <th>top</th>\n",
       "      <td>I usually have very positive experiences when ...</td>\n",
       "      <td>NaN</td>\n",
       "      <td>NaN</td>\n",
       "      <td>United Kingdom</td>\n",
       "      <td>Verified</td>\n",
       "      <td>NaN</td>\n",
       "    </tr>\n",
       "    <tr>\n",
       "      <th>freq</th>\n",
       "      <td>2</td>\n",
       "      <td>NaN</td>\n",
       "      <td>NaN</td>\n",
       "      <td>2169</td>\n",
       "      <td>2097</td>\n",
       "      <td>NaN</td>\n",
       "    </tr>\n",
       "    <tr>\n",
       "      <th>mean</th>\n",
       "      <td>NaN</td>\n",
       "      <td>4.519005</td>\n",
       "      <td>2018-07-19 18:27:55.929267456</td>\n",
       "      <td>NaN</td>\n",
       "      <td>NaN</td>\n",
       "      <td>164.870571</td>\n",
       "    </tr>\n",
       "    <tr>\n",
       "      <th>min</th>\n",
       "      <td>NaN</td>\n",
       "      <td>1.000000</td>\n",
       "      <td>2014-12-04 00:00:00</td>\n",
       "      <td>NaN</td>\n",
       "      <td>NaN</td>\n",
       "      <td>15.000000</td>\n",
       "    </tr>\n",
       "    <tr>\n",
       "      <th>25%</th>\n",
       "      <td>NaN</td>\n",
       "      <td>1.000000</td>\n",
       "      <td>2016-02-26 00:00:00</td>\n",
       "      <td>NaN</td>\n",
       "      <td>NaN</td>\n",
       "      <td>87.000000</td>\n",
       "    </tr>\n",
       "    <tr>\n",
       "      <th>50%</th>\n",
       "      <td>NaN</td>\n",
       "      <td>4.000000</td>\n",
       "      <td>2017-07-25 00:00:00</td>\n",
       "      <td>NaN</td>\n",
       "      <td>NaN</td>\n",
       "      <td>136.000000</td>\n",
       "    </tr>\n",
       "    <tr>\n",
       "      <th>75%</th>\n",
       "      <td>NaN</td>\n",
       "      <td>7.500000</td>\n",
       "      <td>2020-01-11 00:00:00</td>\n",
       "      <td>NaN</td>\n",
       "      <td>NaN</td>\n",
       "      <td>207.000000</td>\n",
       "    </tr>\n",
       "    <tr>\n",
       "      <th>max</th>\n",
       "      <td>NaN</td>\n",
       "      <td>10.000000</td>\n",
       "      <td>2025-05-08 00:00:00</td>\n",
       "      <td>NaN</td>\n",
       "      <td>NaN</td>\n",
       "      <td>656.000000</td>\n",
       "    </tr>\n",
       "    <tr>\n",
       "      <th>std</th>\n",
       "      <td>NaN</td>\n",
       "      <td>3.133922</td>\n",
       "      <td>NaN</td>\n",
       "      <td>NaN</td>\n",
       "      <td>NaN</td>\n",
       "      <td>109.480065</td>\n",
       "    </tr>\n",
       "  </tbody>\n",
       "</table>\n",
       "</div>"
      ],
      "text/plain": [
       "                                                  reviews        stars  \\\n",
       "count                                                3500  3499.000000   \n",
       "unique                                               3494          NaN   \n",
       "top     I usually have very positive experiences when ...          NaN   \n",
       "freq                                                    2          NaN   \n",
       "mean                                                  NaN     4.519005   \n",
       "min                                                   NaN     1.000000   \n",
       "25%                                                   NaN     1.000000   \n",
       "50%                                                   NaN     4.000000   \n",
       "75%                                                   NaN     7.500000   \n",
       "max                                                   NaN    10.000000   \n",
       "std                                                   NaN     3.133922   \n",
       "\n",
       "                                 date         country verification_status  \\\n",
       "count                            2771            3500                3500   \n",
       "unique                            NaN              72                   2   \n",
       "top                               NaN  United Kingdom            Verified   \n",
       "freq                              NaN            2169                2097   \n",
       "mean    2018-07-19 18:27:55.929267456             NaN                 NaN   \n",
       "min               2014-12-04 00:00:00             NaN                 NaN   \n",
       "25%               2016-02-26 00:00:00             NaN                 NaN   \n",
       "50%               2017-07-25 00:00:00             NaN                 NaN   \n",
       "75%               2020-01-11 00:00:00             NaN                 NaN   \n",
       "max               2025-05-08 00:00:00             NaN                 NaN   \n",
       "std                               NaN             NaN                 NaN   \n",
       "\n",
       "         word_count  \n",
       "count   3500.000000  \n",
       "unique          NaN  \n",
       "top             NaN  \n",
       "freq            NaN  \n",
       "mean     164.870571  \n",
       "min       15.000000  \n",
       "25%       87.000000  \n",
       "50%      136.000000  \n",
       "75%      207.000000  \n",
       "max      656.000000  \n",
       "std      109.480065  "
      ]
     },
     "execution_count": 137,
     "metadata": {},
     "output_type": "execute_result"
    }
   ],
   "source": [
    "# Summary Stats ---\n",
    "print(\"\\nSummary Statistics:\\n\")\n",
    "df.describe(include='all')\n"
   ]
  },
  {
   "cell_type": "markdown",
   "id": "4f6c3257-d05b-4d02-a393-f34ab1e77aaf",
   "metadata": {},
   "source": [
    "## Build a Predictive Model"
   ]
  },
  {
   "cell_type": "code",
   "execution_count": 158,
   "id": "a4036d23-6ec9-4234-aaee-bcab3422afde",
   "metadata": {},
   "outputs": [
    {
     "name": "stdout",
     "output_type": "stream",
     "text": [
      "              precision    recall  f1-score   support\n",
      "\n",
      "           0       0.57      0.50      0.53       358\n",
      "           1       0.54      0.61      0.57       342\n",
      "\n",
      "    accuracy                           0.55       700\n",
      "   macro avg       0.55      0.55      0.55       700\n",
      "weighted avg       0.56      0.55      0.55       700\n",
      "\n",
      "Accuracy Score: 0.5528571428571428\n"
     ]
    }
   ],
   "source": [
    "import pandas as pd\n",
    "from sklearn.model_selection import train_test_split\n",
    "from sklearn.feature_extraction.text import TfidfVectorizer\n",
    "from sklearn.linear_model import LogisticRegression\n",
    "from sklearn.metrics import classification_report\n",
    "from sklearn.metrics import classification_report, accuracy_score\n",
    "\n",
    "\n",
    "# Step 1: Clean the 'stars' column\n",
    "df['stars'] = df['stars'].astype(str).str.strip()\n",
    "df['stars'] = pd.to_numeric(df['stars'], errors='coerce')\n",
    "df = df.dropna(subset=['stars'])\n",
    "\n",
    "# Step 2: Create binary label\n",
    "df['label'] = df['stars'].astype(int).apply(lambda x: 1 if x >= 4 else 0)\n",
    "\n",
    "# Step 3: Train/test split\n",
    "X_train, X_test, y_train, y_test = train_test_split(df['reviews'], df['label'], test_size=0.2, random_state=42)\n",
    "\n",
    "# Step 4: TF-IDF\n",
    "vectorizer = TfidfVectorizer(stop_words='english')\n",
    "X_train_vec = vectorizer.fit_transform(X_train)\n",
    "X_test_vec = vectorizer.transform(X_test)\n",
    "\n",
    "# Step 5: Logistic Regression\n",
    "model = LogisticRegression()\n",
    "model.fit(X_train_vec, y_train)\n",
    "\n",
    "# Step 6: Evaluation\n",
    "y_pred = model.predict(X_test_vec)\n",
    "print(classification_report(y_test, y_pred))\n",
    "\n"
   ]
  },
  {
   "cell_type": "code",
   "execution_count": 160,
   "id": "00e5a02f-7627-4ee7-8199-bb381559c9d2",
   "metadata": {},
   "outputs": [
    {
     "name": "stdout",
     "output_type": "stream",
     "text": [
      "Random Forest Classification Report:\n",
      "               precision    recall  f1-score   support\n",
      "\n",
      "           0       0.55      0.46      0.50       358\n",
      "           1       0.52      0.61      0.56       342\n",
      "\n",
      "    accuracy                           0.53       700\n",
      "   macro avg       0.54      0.53      0.53       700\n",
      "weighted avg       0.54      0.53      0.53       700\n",
      "\n",
      "Random Forest Accuracy Score: 0.5328571428571428\n"
     ]
    }
   ],
   "source": [
    "from sklearn.ensemble import RandomForestClassifier\n",
    "\n",
    "# Train Random Forest model\n",
    "rf_model = RandomForestClassifier(n_estimators=100, random_state=42)\n",
    "rf_model.fit(X_train_vec, y_train)\n",
    "\n",
    "# Predict\n",
    "y_pred_rf = rf_model.predict(X_test_vec)\n",
    "\n",
    "# Evaluate\n",
    "print(\"Random Forest Classification Report:\\n\", classification_report(y_test, y_pred_rf))\n",
    "print(\"Random Forest Accuracy Score:\", accuracy_score(y_test, y_pred_rf))\n"
   ]
  },
  {
   "cell_type": "code",
   "execution_count": 162,
   "id": "0839c6eb-e764-4dd2-a4e5-771f44172bd9",
   "metadata": {},
   "outputs": [
    {
     "name": "stdout",
     "output_type": "stream",
     "text": [
      "SVM Classification Report:\n",
      "               precision    recall  f1-score   support\n",
      "\n",
      "           0       0.54      0.49      0.51       358\n",
      "           1       0.52      0.57      0.54       342\n",
      "\n",
      "    accuracy                           0.53       700\n",
      "   macro avg       0.53      0.53      0.53       700\n",
      "weighted avg       0.53      0.53      0.53       700\n",
      "\n",
      "SVM Accuracy Score: 0.5285714285714286\n"
     ]
    }
   ],
   "source": [
    "from sklearn.svm import LinearSVC\n",
    "\n",
    "# Train SVM model\n",
    "svm_model = LinearSVC()\n",
    "svm_model.fit(X_train_vec, y_train)\n",
    "\n",
    "# Predict\n",
    "y_pred_svm = svm_model.predict(X_test_vec)\n",
    "\n",
    "# Evaluate\n",
    "print(\"SVM Classification Report:\\n\", classification_report(y_test, y_pred_svm))\n",
    "print(\"SVM Accuracy Score:\", accuracy_score(y_test, y_pred_svm))\n"
   ]
  },
  {
   "cell_type": "code",
   "execution_count": 164,
   "id": "1811b900-0de1-4cbc-a406-05a25f50afd7",
   "metadata": {},
   "outputs": [
    {
     "name": "stdout",
     "output_type": "stream",
     "text": [
      "Naive Bayes Classification Report:\n",
      "               precision    recall  f1-score   support\n",
      "\n",
      "           0       0.60      0.32      0.42       358\n",
      "           1       0.52      0.78      0.63       342\n",
      "\n",
      "    accuracy                           0.54       700\n",
      "   macro avg       0.56      0.55      0.52       700\n",
      "weighted avg       0.56      0.54      0.52       700\n",
      "\n",
      "Naive Bayes Accuracy Score: 0.5442857142857143\n"
     ]
    }
   ],
   "source": [
    "from sklearn.naive_bayes import MultinomialNB\n",
    "\n",
    "# Train Naive Bayes model\n",
    "nb_model = MultinomialNB()\n",
    "nb_model.fit(X_train_vec, y_train)\n",
    "\n",
    "# Predict\n",
    "y_pred_nb = nb_model.predict(X_test_vec)\n",
    "\n",
    "# Evaluate\n",
    "print(\"Naive Bayes Classification Report:\\n\", classification_report(y_test, y_pred_nb))\n",
    "print(\"Naive Bayes Accuracy Score:\", accuracy_score(y_test, y_pred_nb))\n"
   ]
  },
  {
   "cell_type": "markdown",
   "id": "7a6a8044-b950-4809-b96f-b071cbead802",
   "metadata": {},
   "source": [
    "##  Hyperparameter Tuning for Multiple M"
   ]
  },
  {
   "cell_type": "code",
   "execution_count": 168,
   "id": "b2255092-db16-4722-a1ce-db8d580d860e",
   "metadata": {},
   "outputs": [
    {
     "name": "stdout",
     "output_type": "stream",
     "text": [
      "Fitting 5 folds for each of 54 candidates, totalling 270 fits\n",
      "Logistic Regression Best Hyperparameters: {'C': 0.1, 'fit_intercept': False, 'max_iter': 100, 'penalty': 'l2', 'solver': 'newton-cg'}\n",
      "Fitting 5 folds for each of 144 candidates, totalling 720 fits\n",
      "Random Forest Best Hyperparameters: {'bootstrap': True, 'max_depth': 30, 'min_samples_leaf': 4, 'min_samples_split': 2, 'n_estimators': 100}\n",
      "Fitting 5 folds for each of 36 candidates, totalling 180 fits\n",
      "SVM Best Hyperparameters: {'C': 1, 'degree': 3, 'gamma': 'scale', 'kernel': 'rbf', 'probability': True}\n",
      "Fitting 5 folds for each of 3 candidates, totalling 15 fits\n",
      "Naive Bayes Best Hyperparameters: {'alpha': 1}\n",
      "Logistic Regression Classification Report:\n",
      "               precision    recall  f1-score   support\n",
      "\n",
      "           0       0.58      0.30      0.40       358\n",
      "           1       0.51      0.77      0.61       342\n",
      "\n",
      "    accuracy                           0.53       700\n",
      "   macro avg       0.54      0.54      0.51       700\n",
      "weighted avg       0.55      0.53      0.50       700\n",
      "\n",
      "Logistic Regression Accuracy Score:  0.53\n",
      "Random Forest Classification Report:\n",
      "               precision    recall  f1-score   support\n",
      "\n",
      "           0       0.53      0.35      0.42       358\n",
      "           1       0.50      0.67      0.57       342\n",
      "\n",
      "    accuracy                           0.51       700\n",
      "   macro avg       0.51      0.51      0.50       700\n",
      "weighted avg       0.51      0.51      0.49       700\n",
      "\n",
      "Random Forest Accuracy Score:  0.5071428571428571\n",
      "SVM Classification Report:\n",
      "               precision    recall  f1-score   support\n",
      "\n",
      "           0       0.57      0.46      0.51       358\n",
      "           1       0.53      0.64      0.58       342\n",
      "\n",
      "    accuracy                           0.55       700\n",
      "   macro avg       0.55      0.55      0.55       700\n",
      "weighted avg       0.55      0.55      0.55       700\n",
      "\n",
      "SVM Accuracy Score:  0.5485714285714286\n",
      "Naive Bayes Classification Report:\n",
      "               precision    recall  f1-score   support\n",
      "\n",
      "           0       0.60      0.32      0.42       358\n",
      "           1       0.52      0.78      0.63       342\n",
      "\n",
      "    accuracy                           0.54       700\n",
      "   macro avg       0.56      0.55      0.52       700\n",
      "weighted avg       0.56      0.54      0.52       700\n",
      "\n",
      "Naive Bayes Accuracy Score:  0.5442857142857143\n"
     ]
    }
   ],
   "source": [
    "import pandas as pd\n",
    "from sklearn.model_selection import train_test_split, GridSearchCV\n",
    "from sklearn.feature_extraction.text import TfidfVectorizer\n",
    "from sklearn.linear_model import LogisticRegression\n",
    "from sklearn.ensemble import RandomForestClassifier\n",
    "from sklearn.svm import SVC\n",
    "from sklearn.naive_bayes import MultinomialNB\n",
    "from sklearn.metrics import classification_report, accuracy_score\n",
    "\n",
    "# Step 1: Clean the 'stars' column\n",
    "df['stars'] = df['stars'].astype(str).str.strip()\n",
    "df['stars'] = pd.to_numeric(df['stars'], errors='coerce')\n",
    "df = df.dropna(subset=['stars'])\n",
    "\n",
    "# Step 2: Create binary label\n",
    "df['label'] = df['stars'].astype(int).apply(lambda x: 1 if x >= 4 else 0)\n",
    "\n",
    "# Step 3: Train/test split\n",
    "X_train, X_test, y_train, y_test = train_test_split(df['reviews'], df['label'], test_size=0.2, random_state=42)\n",
    "\n",
    "# Step 4: TF-IDF Vectorization\n",
    "vectorizer = TfidfVectorizer(stop_words='english')\n",
    "X_train_vec = vectorizer.fit_transform(X_train)\n",
    "X_test_vec = vectorizer.transform(X_test)\n",
    "\n",
    "# --- Logistic Regression Hyperparameter Tuning ---\n",
    "lr_model = LogisticRegression()\n",
    "\n",
    "lr_param_grid = {\n",
    "    'C': [0.1, 1, 10],\n",
    "    'max_iter': [100, 200, 300],\n",
    "    'solver': ['liblinear', 'lbfgs', 'newton-cg'],\n",
    "    'penalty': ['l2'],\n",
    "    'fit_intercept': [True, False]\n",
    "}\n",
    "\n",
    "lr_grid_search = GridSearchCV(estimator=lr_model, param_grid=lr_param_grid, cv=5, n_jobs=-1, verbose=2, scoring='accuracy')\n",
    "lr_grid_search.fit(X_train_vec, y_train)\n",
    "print(f\"Logistic Regression Best Hyperparameters: {lr_grid_search.best_params_}\")\n",
    "lr_best_model = lr_grid_search.best_estimator_\n",
    "\n",
    "# --- Random Forest Hyperparameter Tuning ---\n",
    "rf_model = RandomForestClassifier()\n",
    "\n",
    "rf_param_grid = {\n",
    "    'n_estimators': [100, 200],\n",
    "    'max_depth': [None, 10, 20, 30],\n",
    "    'min_samples_split': [2, 5, 10],\n",
    "    'min_samples_leaf': [1, 2, 4],\n",
    "    'bootstrap': [True, False]\n",
    "}\n",
    "\n",
    "rf_grid_search = GridSearchCV(estimator=rf_model, param_grid=rf_param_grid, cv=5, n_jobs=-1, verbose=2, scoring='accuracy')\n",
    "rf_grid_search.fit(X_train_vec, y_train)\n",
    "print(f\"Random Forest Best Hyperparameters: {rf_grid_search.best_params_}\")\n",
    "rf_best_model = rf_grid_search.best_estimator_\n",
    "\n",
    "# --- SVM Hyperparameter Tuning ---\n",
    "svm_model = SVC()\n",
    "\n",
    "svm_param_grid = {\n",
    "    'C': [0.1, 1, 10],\n",
    "    'kernel': ['linear', 'rbf', 'poly'],\n",
    "    'gamma': ['scale', 'auto'],\n",
    "    'degree': [3, 5],\n",
    "    'probability': [True]  # to enable probability estimation\n",
    "}\n",
    "\n",
    "svm_grid_search = GridSearchCV(estimator=svm_model, param_grid=svm_param_grid, cv=5, n_jobs=-1, verbose=2, scoring='accuracy')\n",
    "svm_grid_search.fit(X_train_vec, y_train)\n",
    "print(f\"SVM Best Hyperparameters: {svm_grid_search.best_params_}\")\n",
    "svm_best_model = svm_grid_search.best_estimator_\n",
    "\n",
    "# --- Naive Bayes Hyperparameter Tuning ---\n",
    "nb_model = MultinomialNB()\n",
    "\n",
    "nb_param_grid = {\n",
    "    'alpha': [0.1, 1, 10]\n",
    "}\n",
    "\n",
    "nb_grid_search = GridSearchCV(estimator=nb_model, param_grid=nb_param_grid, cv=5, n_jobs=-1, verbose=2, scoring='accuracy')\n",
    "nb_grid_search.fit(X_train_vec, y_train)\n",
    "print(f\"Naive Bayes Best Hyperparameters: {nb_grid_search.best_params_}\")\n",
    "nb_best_model = nb_grid_search.best_estimator_\n",
    "\n",
    "# --- Model Evaluation ---\n",
    "# Logistic Regression Evaluation\n",
    "y_pred_lr = lr_best_model.predict(X_test_vec)\n",
    "print(\"Logistic Regression Classification Report:\\n\", classification_report(y_test, y_pred_lr))\n",
    "print(\"Logistic Regression Accuracy Score: \", accuracy_score(y_test, y_pred_lr))\n",
    "\n",
    "# Random Forest Evaluation\n",
    "y_pred_rf = rf_best_model.predict(X_test_vec)\n",
    "print(\"Random Forest Classification Report:\\n\", classification_report(y_test, y_pred_rf))\n",
    "print(\"Random Forest Accuracy Score: \", accuracy_score(y_test, y_pred_rf))\n",
    "\n",
    "# SVM Evaluation\n",
    "y_pred_svm = svm_best_model.predict(X_test_vec)\n",
    "print(\"SVM Classification Report:\\n\", classification_report(y_test, y_pred_svm))\n",
    "print(\"SVM Accuracy Score: \", accuracy_score(y_test, y_pred_svm))\n",
    "\n",
    "# Naive Bayes Evaluation\n",
    "y_pred_nb = nb_best_model.predict(X_test_vec)\n",
    "print(\"Naive Bayes Classification Report:\\n\", classification_report(y_test, y_pred_nb))\n",
    "print(\"Naive Bayes Accuracy Score: \", accuracy_score(y_test, y_pred_nb))\n"
   ]
  },
  {
   "cell_type": "code",
   "execution_count": null,
   "id": "26e9717e-c736-471d-9c7f-669563f83f94",
   "metadata": {},
   "outputs": [],
   "source": []
  }
 ],
 "metadata": {
  "kernelspec": {
   "display_name": "Python [conda env:base] *",
   "language": "python",
   "name": "conda-base-py"
  },
  "language_info": {
   "codemirror_mode": {
    "name": "ipython",
    "version": 3
   },
   "file_extension": ".py",
   "mimetype": "text/x-python",
   "name": "python",
   "nbconvert_exporter": "python",
   "pygments_lexer": "ipython3",
   "version": "3.11.5"
  }
 },
 "nbformat": 4,
 "nbformat_minor": 5
}
