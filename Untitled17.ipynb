{
 "cells": [
  {
   "cell_type": "code",
   "execution_count": 3,
   "id": "18edf2a6-cac7-4f35-bd6d-4740f0a0bad1",
   "metadata": {},
   "outputs": [],
   "source": [
    "import pandas as pd\n",
    "import numpy as np\n",
    "from bs4 import BeautifulSoup\n",
    "import requests \n",
    "import matplotlib.pyplot as plt\n",
    "import seaborn as sns\n",
    "from wordcloud import WordCloud\n",
    "from sklearn.feature_extraction.text import TfidfVectorizer\n",
    "from sklearn.model_selection import train_test_split\n",
    "from sklearn.linear_model import LogisticRegression\n",
    "from sklearn.metrics import classification_report\n",
    "import warnings\n",
    "warnings.simplefilter(action='ignore', category=FutureWarning)\n",
    "from sklearn.feature_extraction.text import TfidfVectorizer\n",
    "\n",
    "\n"
   ]
  },
  {
   "cell_type": "code",
   "execution_count": 4,
   "id": "95a6b630-d0c5-4703-afd4-59eff795ea19",
   "metadata": {},
   "outputs": [],
   "source": [
    "#create an empty list to collect all reviews\n",
    "reviews  = []\n",
    "\n",
    "#create an empty list to collect rating stars\n",
    "stars = []\n",
    "\n",
    "#create an empty list to collect date\n",
    "date = []\n",
    "\n",
    "#create an empty list to collect country the reviewer is from\n",
    "country = []"
   ]
  },
  {
   "cell_type": "code",
   "execution_count": 5,
   "id": "8b3fbfed-27a3-4a7f-8b3c-329f9ebbf2b1",
   "metadata": {},
   "outputs": [
    {
     "name": "stdout",
     "output_type": "stream",
     "text": [
      "Error on page 34\n",
      "Error on page 35\n"
     ]
    }
   ],
   "source": [
    "for i in range(1, 36):\n",
    "    page = requests.get(f\"https://www.airlinequality.com/airline-reviews/british-airways/page/{i}/?sortby=post_date%3ADesc&pagesize=100\")\n",
    "    \n",
    "    soup = BeautifulSoup(page.content, \"html5\")\n",
    "    \n",
    "    for item in soup.find_all(\"div\", class_=\"text_content\"):\n",
    "        reviews.append(item.text)\n",
    "    \n",
    "    for item in soup.find_all(\"div\", class_ = \"rating-10\"):\n",
    "        try:\n",
    "            stars.append(item.span.text)\n",
    "        except:\n",
    "            print(f\"Error on page {i}\")\n",
    "            stars.append(\"None\")\n",
    "            \n",
    "    #date\n",
    "    for item in soup.find_all(\"time\"):\n",
    "        date.append(item.text)\n",
    "        \n",
    "    #country\n",
    "    for item in soup.find_all(\"h3\"):\n",
    "        country.append(item.span.next_sibling.text.strip(\" ()\"))"
   ]
  },
  {
   "cell_type": "code",
   "execution_count": 8,
   "id": "45a26607-1868-4814-a743-c6d728927aab",
   "metadata": {},
   "outputs": [
    {
     "data": {
      "text/plain": [
       "3500"
      ]
     },
     "execution_count": 8,
     "metadata": {},
     "output_type": "execute_result"
    }
   ],
   "source": [
    "#check the length of total reviews extracted\n",
    "len(reviews)"
   ]
  },
  {
   "cell_type": "code",
   "execution_count": 9,
   "id": "eaab9868-47b0-47e4-ae3b-14ec520a3d66",
   "metadata": {},
   "outputs": [
    {
     "data": {
      "text/plain": [
       "3500"
      ]
     },
     "execution_count": 9,
     "metadata": {},
     "output_type": "execute_result"
    }
   ],
   "source": [
    "len(country)"
   ]
  },
  {
   "cell_type": "code",
   "execution_count": 10,
   "id": "c78412a1-31ae-430d-91b9-ef5cd6c10ed2",
   "metadata": {},
   "outputs": [
    {
     "name": "stdout",
     "output_type": "stream",
     "text": [
      "3500 3535 3500 3500\n"
     ]
    }
   ],
   "source": [
    "print(len(reviews), len(stars), len(date), len(country))\n"
   ]
  },
  {
   "cell_type": "code",
   "execution_count": 11,
   "id": "310e487b-d6a4-43ca-a266-729a28c27fda",
   "metadata": {},
   "outputs": [],
   "source": [
    "stars = stars[:3500]\n"
   ]
  },
  {
   "cell_type": "code",
   "execution_count": 12,
   "id": "3014ac78-5ded-40c6-ac2c-4d15f2a11714",
   "metadata": {},
   "outputs": [],
   "source": [
    "import pandas as pd\n",
    "\n",
    "df = pd.DataFrame({\n",
    "    \"reviews\": reviews,\n",
    "    \"stars\": stars,\n",
    "    \"date\": date,\n",
    "    \"country\": country\n",
    "})\n"
   ]
  },
  {
   "cell_type": "code",
   "execution_count": 13,
   "id": "c049939e-0e40-473e-9cad-b19c8587e400",
   "metadata": {},
   "outputs": [
    {
     "data": {
      "text/html": [
       "<div>\n",
       "<style scoped>\n",
       "    .dataframe tbody tr th:only-of-type {\n",
       "        vertical-align: middle;\n",
       "    }\n",
       "\n",
       "    .dataframe tbody tr th {\n",
       "        vertical-align: top;\n",
       "    }\n",
       "\n",
       "    .dataframe thead th {\n",
       "        text-align: right;\n",
       "    }\n",
       "</style>\n",
       "<table border=\"1\" class=\"dataframe\">\n",
       "  <thead>\n",
       "    <tr style=\"text-align: right;\">\n",
       "      <th></th>\n",
       "      <th>reviews</th>\n",
       "      <th>stars</th>\n",
       "      <th>date</th>\n",
       "      <th>country</th>\n",
       "    </tr>\n",
       "  </thead>\n",
       "  <tbody>\n",
       "    <tr>\n",
       "      <th>0</th>\n",
       "      <td>✅ Trip Verified |   We are extremely grateful ...</td>\n",
       "      <td>\\n\\t\\t\\t\\t\\t\\t\\t\\t\\t\\t\\t\\t5</td>\n",
       "      <td>8th May 2025</td>\n",
       "      <td>Switzerland</td>\n",
       "    </tr>\n",
       "    <tr>\n",
       "      <th>1</th>\n",
       "      <td>✅ Trip Verified |   I had an appalling experie...</td>\n",
       "      <td>10</td>\n",
       "      <td>29th April 2025</td>\n",
       "      <td>South Africa</td>\n",
       "    </tr>\n",
       "    <tr>\n",
       "      <th>2</th>\n",
       "      <td>Not Verified |  Good points, the cabin crew, t...</td>\n",
       "      <td>3</td>\n",
       "      <td>22nd April 2025</td>\n",
       "      <td>United Kingdom</td>\n",
       "    </tr>\n",
       "    <tr>\n",
       "      <th>3</th>\n",
       "      <td>Not Verified |  It was a decent flight, reason...</td>\n",
       "      <td>6</td>\n",
       "      <td>22nd April 2025</td>\n",
       "      <td>United Kingdom</td>\n",
       "    </tr>\n",
       "    <tr>\n",
       "      <th>4</th>\n",
       "      <td>✅ Trip Verified |   I really like flying Briti...</td>\n",
       "      <td>6</td>\n",
       "      <td>18th April 2025</td>\n",
       "      <td>Australia</td>\n",
       "    </tr>\n",
       "  </tbody>\n",
       "</table>\n",
       "</div>"
      ],
      "text/plain": [
       "                                             reviews  \\\n",
       "0  ✅ Trip Verified |   We are extremely grateful ...   \n",
       "1  ✅ Trip Verified |   I had an appalling experie...   \n",
       "2  Not Verified |  Good points, the cabin crew, t...   \n",
       "3  Not Verified |  It was a decent flight, reason...   \n",
       "4  ✅ Trip Verified |   I really like flying Briti...   \n",
       "\n",
       "                         stars             date         country  \n",
       "0  \\n\\t\\t\\t\\t\\t\\t\\t\\t\\t\\t\\t\\t5     8th May 2025     Switzerland  \n",
       "1                           10  29th April 2025    South Africa  \n",
       "2                            3  22nd April 2025  United Kingdom  \n",
       "3                            6  22nd April 2025  United Kingdom  \n",
       "4                            6  18th April 2025       Australia  "
      ]
     },
     "execution_count": 13,
     "metadata": {},
     "output_type": "execute_result"
    }
   ],
   "source": [
    "df.head()"
   ]
  },
  {
   "cell_type": "code",
   "execution_count": 14,
   "id": "da126c04-9887-4145-b1cd-4f43eb705994",
   "metadata": {},
   "outputs": [],
   "source": [
    "import re\n",
    "# Create new lists for the verification status and cleaned reviews\n",
    "verification_status = []\n",
    "cleaned_reviews = []\n",
    "\n",
    "# Loop through the reviews to separate the verification status and clean the text\n",
    "for review in reviews:\n",
    "    if \"✅\" in review or \"Not Verified\" in review:\n",
    "        # Check if review contains \"✅\" (Verified) or \"Not Verified\"\n",
    "        if \"✅\" in review:\n",
    "            verification_status.append(\"Verified\")\n",
    "            cleaned_reviews.append(re.sub(r'✅|Trip Verified', '', review).strip())\n",
    "        elif \"Not Verified\" in review:\n",
    "            verification_status.append(\"Not Verified\")\n",
    "            cleaned_reviews.append(re.sub(r'Not Verified', '', review).strip())\n",
    "    else:\n",
    "        verification_status.append(\"Not Verified\")\n",
    "        cleaned_reviews.append(review)\n",
    "\n",
    "# Now, create the DataFrame with the new structure\n",
    "df = pd.DataFrame({\n",
    "    \"reviews\": cleaned_reviews,\n",
    "    \"stars\": stars,\n",
    "    \"date\": date,\n",
    "    \"country\": country,\n",
    "    \"verification_status\": verification_status  \n",
    "})\n"
   ]
  },
  {
   "cell_type": "code",
   "execution_count": 15,
   "id": "bcad3715-9f00-40cf-bebc-ab7b91d05fa8",
   "metadata": {},
   "outputs": [
    {
     "data": {
      "text/html": [
       "<div>\n",
       "<style scoped>\n",
       "    .dataframe tbody tr th:only-of-type {\n",
       "        vertical-align: middle;\n",
       "    }\n",
       "\n",
       "    .dataframe tbody tr th {\n",
       "        vertical-align: top;\n",
       "    }\n",
       "\n",
       "    .dataframe thead th {\n",
       "        text-align: right;\n",
       "    }\n",
       "</style>\n",
       "<table border=\"1\" class=\"dataframe\">\n",
       "  <thead>\n",
       "    <tr style=\"text-align: right;\">\n",
       "      <th></th>\n",
       "      <th>reviews</th>\n",
       "      <th>stars</th>\n",
       "      <th>date</th>\n",
       "      <th>country</th>\n",
       "      <th>verification_status</th>\n",
       "    </tr>\n",
       "  </thead>\n",
       "  <tbody>\n",
       "    <tr>\n",
       "      <th>0</th>\n",
       "      <td>|   We are extremely grateful to the crew of f...</td>\n",
       "      <td>\\n\\t\\t\\t\\t\\t\\t\\t\\t\\t\\t\\t\\t5</td>\n",
       "      <td>8th May 2025</td>\n",
       "      <td>Switzerland</td>\n",
       "      <td>Verified</td>\n",
       "    </tr>\n",
       "    <tr>\n",
       "      <th>1</th>\n",
       "      <td>|   I had an appalling experience with British...</td>\n",
       "      <td>10</td>\n",
       "      <td>29th April 2025</td>\n",
       "      <td>South Africa</td>\n",
       "      <td>Verified</td>\n",
       "    </tr>\n",
       "    <tr>\n",
       "      <th>2</th>\n",
       "      <td>|  Good points, the cabin crew, they were help...</td>\n",
       "      <td>3</td>\n",
       "      <td>22nd April 2025</td>\n",
       "      <td>United Kingdom</td>\n",
       "      <td>Not Verified</td>\n",
       "    </tr>\n",
       "    <tr>\n",
       "      <th>3</th>\n",
       "      <td>|  It was a decent flight, reasonable comforta...</td>\n",
       "      <td>6</td>\n",
       "      <td>22nd April 2025</td>\n",
       "      <td>United Kingdom</td>\n",
       "      <td>Not Verified</td>\n",
       "    </tr>\n",
       "    <tr>\n",
       "      <th>4</th>\n",
       "      <td>|   I really like flying British Airways parti...</td>\n",
       "      <td>6</td>\n",
       "      <td>18th April 2025</td>\n",
       "      <td>Australia</td>\n",
       "      <td>Verified</td>\n",
       "    </tr>\n",
       "  </tbody>\n",
       "</table>\n",
       "</div>"
      ],
      "text/plain": [
       "                                             reviews  \\\n",
       "0  |   We are extremely grateful to the crew of f...   \n",
       "1  |   I had an appalling experience with British...   \n",
       "2  |  Good points, the cabin crew, they were help...   \n",
       "3  |  It was a decent flight, reasonable comforta...   \n",
       "4  |   I really like flying British Airways parti...   \n",
       "\n",
       "                         stars             date         country  \\\n",
       "0  \\n\\t\\t\\t\\t\\t\\t\\t\\t\\t\\t\\t\\t5     8th May 2025     Switzerland   \n",
       "1                           10  29th April 2025    South Africa   \n",
       "2                            3  22nd April 2025  United Kingdom   \n",
       "3                            6  22nd April 2025  United Kingdom   \n",
       "4                            6  18th April 2025       Australia   \n",
       "\n",
       "  verification_status  \n",
       "0            Verified  \n",
       "1            Verified  \n",
       "2        Not Verified  \n",
       "3        Not Verified  \n",
       "4            Verified  "
      ]
     },
     "execution_count": 15,
     "metadata": {},
     "output_type": "execute_result"
    }
   ],
   "source": [
    "df.head()"
   ]
  },
  {
   "cell_type": "code",
   "execution_count": 16,
   "id": "d432a721-d32e-4ab2-a296-f0bdc1090743",
   "metadata": {},
   "outputs": [
    {
     "name": "stdout",
     "output_type": "stream",
     "text": [
      "Data saved to 'british_airways_reviews_cleaned.csv'\n"
     ]
    }
   ],
   "source": [
    "# Save the DataFrame to a CSV file\n",
    "df.to_csv('british_airways_reviews_cleaned.csv', index=False)\n",
    "\n",
    "# Confirm the data has been saved\n",
    "print(\"Data saved to 'british_airways_reviews_cleaned.csv'\")\n"
   ]
  },
  {
   "cell_type": "code",
   "execution_count": 17,
   "id": "cba4b8c3-6d90-4d1b-b6f7-4fda8a5db789",
   "metadata": {},
   "outputs": [
    {
     "data": {
      "text/plain": [
       "(3500, 5)"
      ]
     },
     "execution_count": 17,
     "metadata": {},
     "output_type": "execute_result"
    }
   ],
   "source": [
    "df.shape"
   ]
  },
  {
   "cell_type": "markdown",
   "id": "d9b01555-3fbd-4644-984a-e169fcbd7dc5",
   "metadata": {},
   "source": [
    "# Data Cleaning "
   ]
  },
  {
   "cell_type": "code",
   "execution_count": 19,
   "id": "a49f4319-fabb-4735-a772-143f540ae123",
   "metadata": {},
   "outputs": [
    {
     "name": "stdout",
     "output_type": "stream",
     "text": [
      "<class 'pandas.core.frame.DataFrame'>\n",
      "RangeIndex: 3500 entries, 0 to 3499\n",
      "Data columns (total 5 columns):\n",
      " #   Column               Non-Null Count  Dtype \n",
      "---  ------               --------------  ----- \n",
      " 0   reviews              3500 non-null   object\n",
      " 1   stars                3500 non-null   object\n",
      " 2   date                 3500 non-null   object\n",
      " 3   country              3500 non-null   object\n",
      " 4   verification_status  3500 non-null   object\n",
      "dtypes: object(5)\n",
      "memory usage: 136.8+ KB\n"
     ]
    }
   ],
   "source": [
    "df.info()"
   ]
  },
  {
   "cell_type": "code",
   "execution_count": 20,
   "id": "45125029-1fc4-47c1-b582-a3340abc5f5b",
   "metadata": {},
   "outputs": [
    {
     "data": {
      "text/plain": [
       "reviews                0\n",
       "stars                  0\n",
       "date                   0\n",
       "country                0\n",
       "verification_status    0\n",
       "dtype: int64"
      ]
     },
     "execution_count": 20,
     "metadata": {},
     "output_type": "execute_result"
    }
   ],
   "source": [
    "# checking for missing values\n",
    "df.isnull().sum()"
   ]
  },
  {
   "cell_type": "markdown",
   "id": "c833afa9-30ab-49d4-838b-fe465c87a1a1",
   "metadata": {},
   "source": [
    "Our data has no any missing values "
   ]
  },
  {
   "cell_type": "code",
   "execution_count": 22,
   "id": "8bbf8909-f0b1-4c2c-aa88-239e84cf01b4",
   "metadata": {},
   "outputs": [
    {
     "name": "stdout",
     "output_type": "stream",
     "text": [
      "Index(['reviews', 'stars', 'date', 'country', 'verification_status'], dtype='object')\n"
     ]
    },
    {
     "data": {
      "text/plain": [
       "array(['\\n\\t\\t\\t\\t\\t\\t\\t\\t\\t\\t\\t\\t5', '10', '3', '6', '5', '1', '7', '9',\n",
       "       '4', '2', '8', 'None'], dtype=object)"
      ]
     },
     "execution_count": 22,
     "metadata": {},
     "output_type": "execute_result"
    }
   ],
   "source": [
    "# Check the column names\n",
    "print(df.columns)\n",
    "\n",
    "# column name used to get unique values\n",
    "df['stars'].unique()\n"
   ]
  },
  {
   "cell_type": "code",
   "execution_count": 23,
   "id": "c1b44da9-a572-4e73-9884-5853db615891",
   "metadata": {},
   "outputs": [
    {
     "data": {
      "text/plain": [
       "array(['5', '10', '3', '6', '1', '7', '9', '4', '2', '8', 'None'],\n",
       "      dtype=object)"
      ]
     },
     "execution_count": 23,
     "metadata": {},
     "output_type": "execute_result"
    }
   ],
   "source": [
    "# Clean the 'stars' column by removing unwanted whitespace and characters\n",
    "df['stars'] = df['stars'].str.strip().str.replace(r'[\\n\\t]', '', regex=True)\n",
    "\n",
    "# checking  the unique values \n",
    "df['stars'].unique()\n"
   ]
  },
  {
   "cell_type": "code",
   "execution_count": 24,
   "id": "31bd8b04-9e4e-498e-a291-b6af359d1bf2",
   "metadata": {},
   "outputs": [
    {
     "data": {
      "text/plain": [
       "0"
      ]
     },
     "execution_count": 24,
     "metadata": {},
     "output_type": "execute_result"
    }
   ],
   "source": [
    "#checking for duplicates \n",
    "df.duplicated().sum()"
   ]
  },
  {
   "cell_type": "code",
   "execution_count": 25,
   "id": "12eccc36-fce6-4189-971a-6792d5353bd1",
   "metadata": {},
   "outputs": [],
   "source": [
    "# Clean the 'stars' column: remove any whitespace or newlines and convert to integer\n",
    "df['stars'] = df['stars'].astype(str).str.extract('(\\d+)').astype(float)\n",
    "\n",
    "# Clean 'date' column\n",
    "df['date'] = pd.to_datetime(df['date'], errors='coerce')\n",
    "\n",
    "# Clean 'verification_status' column: strip whitespaces\n",
    "df['verification_status'] = df['verification_status'].str.strip()"
   ]
  },
  {
   "cell_type": "markdown",
   "id": "7fa601eb-7802-4347-9d64-187c79571fa4",
   "metadata": {},
   "source": [
    "# Data Analysis "
   ]
  },
  {
   "cell_type": "code",
   "execution_count": 50,
   "id": "ba47efc5-3f5d-4b7b-b485-7bf57693cf2b",
   "metadata": {},
   "outputs": [
    {
     "data": {
      "image/png": "[encoded data removed]",
      "text/plain": [
       "<Figure size 800x500 with 1 Axes>"
      ]
     },
     "metadata": {},
     "output_type": "display_data"
    }
   ],
   "source": [
    "# 1. Star Rating Distribution ---\n",
    "plt.figure(figsize=(8, 5))\n",
    "sns.countplot(x='stars', data=df, palette='viridis')\n",
    "plt.title('Distribution of Star Ratings')\n",
    "plt.xlabel('Star Rating')\n",
    "plt.ylabel('Number of Reviews')\n",
    "plt.tight_layout()\n",
    "plt.show()"
   ]
  },
  {
   "cell_type": "markdown",
   "id": "5f5c466d-bac8-4eeb-93f8-801c90ac6ad9",
   "metadata": {},
   "source": [
    "Most of the ratings are polarised between groups who score the most extremely low (1 star) and the most highly (almost 10 stars), meaning viewings are very polarised. Most reviews either showed extreme dissatisfaction with 1 star (900 reviews) or, conversely, satisfaction with 9 and 10 stars (270 reviews); the medium scores were rarer. Both extreme experiences, one excellent and the other disappointing, attract more attention and responses than average ones."
   ]
  },
  {
   "cell_type": "code",
   "execution_count": 52,
   "id": "acd2ea6c-6219-4500-8b62-f4b7e57ccc88",
   "metadata": {},
   "outputs": [
    {
     "data": {
      "image/png": "[encoded data removed]",
      "text/plain": [
       "<Figure size 800x500 with 1 Axes>"
      ]
     },
     "metadata": {},
     "output_type": "display_data"
    }
   ],
   "source": [
    "# --- 2. Reviews by Verification Status ---\n",
    "plt.figure(figsize=(8, 5))\n",
    "sns.countplot(x='verification_status', data=df, palette='coolwarm')\n",
    "plt.title('Verification Status of Reviews')\n",
    "plt.xlabel('Verification Status')\n",
    "plt.ylabel('Count')\n",
    "plt.xticks(rotation=15)\n",
    "plt.tight_layout()\n",
    "plt.show()"
   ]
  },
  {
   "cell_type": "markdown",
   "id": "8c9c2830-616a-4d35-876e-8887cdd9f055",
   "metadata": {},
   "source": [
    "The data shows that approximately 60% of all reviews are authenticated, and 40% are not verified. Reviews that testify to a real customer experience support the formation of a more accurate feedback base. However, given the plethora of unverified feedback, questions about its validity become understandable. This adds much value to the earlier star rating breakdown that was formed by encouraging the reviewers to improve their reliability."
   ]
  },
  {
   "cell_type": "code",
   "execution_count": 54,
   "id": "d300cfec-e4cf-494f-942a-a1cc340133f9",
   "metadata": {},
   "outputs": [
    {
     "data": {
      "image/png": "[encoded data removed]",
      "text/plain": [
       "<Figure size 1000x600 with 1 Axes>"
      ]
     },
     "metadata": {},
     "output_type": "display_data"
    }
   ],
   "source": [
    "# --- 3. Average Star Rating by Country (Top 10 countries) ---\n",
    "top_countries = df['country'].value_counts().head(10).index\n",
    "avg_by_country = df[df['country'].isin(top_countries)].groupby('country')['stars'].mean().sort_values(ascending=False)\n",
    "plt.figure(figsize=(10, 6))\n",
    "avg_by_country.plot(kind='bar', color='teal')\n",
    "plt.title('Average Star Rating by Country (Top 10)')\n",
    "plt.ylabel('Average Star Rating')\n",
    "plt.xlabel('Country')\n",
    "plt.xticks(rotation=45)\n",
    "plt.tight_layout()\n",
    "plt.show()"
   ]
  },
  {
   "cell_type": "markdown",
   "id": "bf079406-055e-4db5-bf1f-45c41cf1de3f",
   "metadata": {},
   "source": [
    "Based on the graph, countries come in between Switzerland’s top average of 5.2 stars and Germany’s bottom, at 3.9 stars. Ireland, Australia, and the UK add to only the higher score range of 4.7 – 5.0, and the U.S., Singapore, and the Netherlands fall overall within the lower band. Such a gap may be attributed to differences in cultural attitudes regarding rating, the range of services offered in different countries, and personal conceptions in customers’ minds. Though sensible disparity exists, all region-specific averages exceed 3.9, implying general positive customer sentiment around the globe."
   ]
  },
  {
   "cell_type": "code",
   "execution_count": 56,
   "id": "e0098d11-8798-46f9-bdfe-acd105fc264b",
   "metadata": {},
   "outputs": [
    {
     "data": {
      "image/png": "[encoded data removed]",
      "text/plain": [
       "<Figure size 1200x600 with 1 Axes>"
      ]
     },
     "metadata": {},
     "output_type": "display_data"
    }
   ],
   "source": [
    "# --- 4. Reviews Over Time ---\n",
    "monthly_reviews = df.set_index('date').resample('M').size()\n",
    "\n",
    "plt.figure(figsize=(12, 6))\n",
    "monthly_reviews.plot()\n",
    "plt.title('Review Count Over Time')\n",
    "plt.ylabel('Number of Reviews')\n",
    "plt.xlabel('Date')\n",
    "plt.grid(True)\n",
    "plt.tight_layout()\n",
    "plt.show()"
   ]
  },
  {
   "cell_type": "markdown",
   "id": "68fc2dc5-1889-4f37-a1d5-a38a6c500a0c",
   "metadata": {},
   "source": [
    "The graph shows review submissions from 2015-2025, with noticeable spikes at the beginning of 2015 and 2016, and it is a downward trend overall. Review activity was especially active and volatile between the years 2015 and 2017, then calmed at a moderate level between 2018 and 2019. The COVID-19 pandemic clearly had some influence on the sharp decline in review activity from 2020 to 2021, culminating in the near absence of reviews in mid-2020/early 2021, respectively. Subsequently, there has been a small improvement in the number of reviews after 2022, but volumes have slowed to a far smaller plateau. This suggests that there is still a constant customer base for the product, although the engagement has decreased over time because it is advanced."
   ]
  },
  {
   "cell_type": "code",
   "execution_count": 58,
   "id": "683a5715-dd54-446c-b236-f344072da760",
   "metadata": {},
   "outputs": [
    {
     "data": {
      "image/png": "[encoded data removed]",
      "text/plain": [
       "<Figure size 800x500 with 1 Axes>"
      ]
     },
     "metadata": {},
     "output_type": "display_data"
    }
   ],
   "source": [
    " # 5. Optional: Word Count per Review ---\n",
    "df['word_count'] = df['reviews'].astype(str).apply(lambda x: len(x.split()))\n",
    "plt.figure(figsize=(8, 5))\n",
    "sns.histplot(df['word_count'], bins=30, color='orange')\n",
    "plt.title('Distribution of Word Count in Reviews')\n",
    "plt.xlabel('Word Count')\n",
    "plt.ylabel('Frequency')\n",
    "plt.tight_layout()\n",
    "plt.show()"
   ]
  },
  {
   "cell_type": "markdown",
   "id": "c1bef019-2725-4737-bc7a-548c04e2a9d6",
   "metadata": {},
   "source": [
    "The majority of the histograms’ reviews are short in length, and the data indicates a right-skew distribution. The peak distribution of reviews is 100 words, and over half of all reviews are between 50 and 200 words. The longer the review is, the fewer submissions there are – few readers contribute reviews of over 500 words. The pattern observed corresponds to normal online review behavior, which is to provide concise feedback, while lengthy reviews are predominant in a small selection of users. The fact that the bulk of reviews are short shows that users want a simple and quick feedback process, giving insights into how to improve the solicitation method."
   ]
  },
  {
   "cell_type": "code",
   "execution_count": 88,
   "id": "7306da24-b06d-49ba-8d21-31bfd25f5f5a",
   "metadata": {},
   "outputs": [
    {
     "name": "stdout",
     "output_type": "stream",
     "text": [
      "\n",
      "Summary Statistics:\n",
      "\n"
     ]
    },
    {
     "data": {
      "text/html": [
       "<div>\n",
       "<style scoped>\n",
       "    .dataframe tbody tr th:only-of-type {\n",
       "        vertical-align: middle;\n",
       "    }\n",
       "\n",
       "    .dataframe tbody tr th {\n",
       "        vertical-align: top;\n",
       "    }\n",
       "\n",
       "    .dataframe thead th {\n",
       "        text-align: right;\n",
       "    }\n",
       "</style>\n",
       "<table border=\"1\" class=\"dataframe\">\n",
       "  <thead>\n",
       "    <tr style=\"text-align: right;\">\n",
       "      <th></th>\n",
       "      <th>reviews</th>\n",
       "      <th>stars</th>\n",
       "      <th>date</th>\n",
       "      <th>country</th>\n",
       "      <th>verification_status</th>\n",
       "      <th>label</th>\n",
       "      <th>reviews_clean</th>\n",
       "    </tr>\n",
       "  </thead>\n",
       "  <tbody>\n",
       "    <tr>\n",
       "      <th>count</th>\n",
       "      <td>3499</td>\n",
       "      <td>3499.000000</td>\n",
       "      <td>2771</td>\n",
       "      <td>3499</td>\n",
       "      <td>3499</td>\n",
       "      <td>3499.000000</td>\n",
       "      <td>3499</td>\n",
       "    </tr>\n",
       "    <tr>\n",
       "      <th>unique</th>\n",
       "      <td>3496</td>\n",
       "      <td>NaN</td>\n",
       "      <td>NaN</td>\n",
       "      <td>72</td>\n",
       "      <td>2</td>\n",
       "      <td>NaN</td>\n",
       "      <td>3496</td>\n",
       "    </tr>\n",
       "    <tr>\n",
       "      <th>top</th>\n",
       "      <td>Used Avios to upgrade return flights to Grenad...</td>\n",
       "      <td>NaN</td>\n",
       "      <td>NaN</td>\n",
       "      <td>United Kingdom</td>\n",
       "      <td>Verified</td>\n",
       "      <td>NaN</td>\n",
       "      <td>used avios to upgrade return flights to grenad...</td>\n",
       "    </tr>\n",
       "    <tr>\n",
       "      <th>freq</th>\n",
       "      <td>2</td>\n",
       "      <td>NaN</td>\n",
       "      <td>NaN</td>\n",
       "      <td>2166</td>\n",
       "      <td>2097</td>\n",
       "      <td>NaN</td>\n",
       "      <td>2</td>\n",
       "    </tr>\n",
       "    <tr>\n",
       "      <th>mean</th>\n",
       "      <td>NaN</td>\n",
       "      <td>4.522721</td>\n",
       "      <td>2018-07-19 18:27:55.929267456</td>\n",
       "      <td>NaN</td>\n",
       "      <td>NaN</td>\n",
       "      <td>0.513575</td>\n",
       "      <td>NaN</td>\n",
       "    </tr>\n",
       "    <tr>\n",
       "      <th>min</th>\n",
       "      <td>NaN</td>\n",
       "      <td>1.000000</td>\n",
       "      <td>2014-12-04 00:00:00</td>\n",
       "      <td>NaN</td>\n",
       "      <td>NaN</td>\n",
       "      <td>0.000000</td>\n",
       "      <td>NaN</td>\n",
       "    </tr>\n",
       "    <tr>\n",
       "      <th>25%</th>\n",
       "      <td>NaN</td>\n",
       "      <td>1.000000</td>\n",
       "      <td>2016-02-26 00:00:00</td>\n",
       "      <td>NaN</td>\n",
       "      <td>NaN</td>\n",
       "      <td>0.000000</td>\n",
       "      <td>NaN</td>\n",
       "    </tr>\n",
       "    <tr>\n",
       "      <th>50%</th>\n",
       "      <td>NaN</td>\n",
       "      <td>4.000000</td>\n",
       "      <td>2017-07-25 00:00:00</td>\n",
       "      <td>NaN</td>\n",
       "      <td>NaN</td>\n",
       "      <td>1.000000</td>\n",
       "      <td>NaN</td>\n",
       "    </tr>\n",
       "    <tr>\n",
       "      <th>75%</th>\n",
       "      <td>NaN</td>\n",
       "      <td>8.000000</td>\n",
       "      <td>2020-01-11 00:00:00</td>\n",
       "      <td>NaN</td>\n",
       "      <td>NaN</td>\n",
       "      <td>1.000000</td>\n",
       "      <td>NaN</td>\n",
       "    </tr>\n",
       "    <tr>\n",
       "      <th>max</th>\n",
       "      <td>NaN</td>\n",
       "      <td>10.000000</td>\n",
       "      <td>2025-05-08 00:00:00</td>\n",
       "      <td>NaN</td>\n",
       "      <td>NaN</td>\n",
       "      <td>1.000000</td>\n",
       "      <td>NaN</td>\n",
       "    </tr>\n",
       "    <tr>\n",
       "      <th>std</th>\n",
       "      <td>NaN</td>\n",
       "      <td>3.136541</td>\n",
       "      <td>NaN</td>\n",
       "      <td>NaN</td>\n",
       "      <td>NaN</td>\n",
       "      <td>0.499887</td>\n",
       "      <td>NaN</td>\n",
       "    </tr>\n",
       "  </tbody>\n",
       "</table>\n",
       "</div>"
      ],
      "text/plain": [
       "                                                  reviews        stars  \\\n",
       "count                                                3499  3499.000000   \n",
       "unique                                               3496          NaN   \n",
       "top     Used Avios to upgrade return flights to Grenad...          NaN   \n",
       "freq                                                    2          NaN   \n",
       "mean                                                  NaN     4.522721   \n",
       "min                                                   NaN     1.000000   \n",
       "25%                                                   NaN     1.000000   \n",
       "50%                                                   NaN     4.000000   \n",
       "75%                                                   NaN     8.000000   \n",
       "max                                                   NaN    10.000000   \n",
       "std                                                   NaN     3.136541   \n",
       "\n",
       "                                 date         country verification_status  \\\n",
       "count                            2771            3499                3499   \n",
       "unique                            NaN              72                   2   \n",
       "top                               NaN  United Kingdom            Verified   \n",
       "freq                              NaN            2166                2097   \n",
       "mean    2018-07-19 18:27:55.929267456             NaN                 NaN   \n",
       "min               2014-12-04 00:00:00             NaN                 NaN   \n",
       "25%               2016-02-26 00:00:00             NaN                 NaN   \n",
       "50%               2017-07-25 00:00:00             NaN                 NaN   \n",
       "75%               2020-01-11 00:00:00             NaN                 NaN   \n",
       "max               2025-05-08 00:00:00             NaN                 NaN   \n",
       "std                               NaN             NaN                 NaN   \n",
       "\n",
       "              label                                      reviews_clean  \n",
       "count   3499.000000                                               3499  \n",
       "unique          NaN                                               3496  \n",
       "top             NaN  used avios to upgrade return flights to grenad...  \n",
       "freq            NaN                                                  2  \n",
       "mean       0.513575                                                NaN  \n",
       "min        0.000000                                                NaN  \n",
       "25%        0.000000                                                NaN  \n",
       "50%        1.000000                                                NaN  \n",
       "75%        1.000000                                                NaN  \n",
       "max        1.000000                                                NaN  \n",
       "std        0.499887                                                NaN  "
      ]
     },
     "execution_count": 88,
     "metadata": {},
     "output_type": "execute_result"
    }
   ],
   "source": [
    "# Summary Stats ---\n",
    "print(\"\\nSummary Statistics:\\n\")\n",
    "df.describe(include='all')\n"
   ]
  },
  {
   "cell_type": "code",
   "execution_count": 90,
   "id": "fc330a42-ca3b-4f45-958c-690cb4660389",
   "metadata": {},
   "outputs": [],
   "source": [
    "df['rating_category'] = df['stars'].apply(lambda x: 'Excellent' if x >= 9 else\n",
    "                                           ('Good' if x >= 7 else\n",
    "                                            ('Average' if x >= 4 else 'Poor')))\n"
   ]
  },
  {
   "cell_type": "markdown",
   "id": "4f6c3257-d05b-4d02-a393-f34ab1e77aaf",
   "metadata": {},
   "source": [
    "## Build a Predictive Model"
   ]
  },
  {
   "cell_type": "code",
   "execution_count": 72,
   "id": "d1e58c98-bb94-46b6-bc44-165ecaaf5720",
   "metadata": {},
   "outputs": [],
   "source": [
    "# Step 1: Clean the 'stars' column\n",
    "df['stars'] = df['stars'].astype(str).str.strip()\n",
    "df['stars'] = pd.to_numeric(df['stars'], errors='coerce')\n",
    "df = df.dropna(subset=['stars'])\n",
    "\n",
    "# Step 2: Create binary target label\n",
    "df['label'] = df['stars'].astype(int).apply(lambda x: 1 if x >= 4 else 0)\n",
    "\n",
    "# Step 3: Train-test split\n",
    "X_train, X_test, y_train, y_test = train_test_split(df['reviews'], df['label'], test_size=0.2, random_state=42)\n",
    "\n",
    "# Step 4: TF-IDF vectorization\n",
    "vectorizer = TfidfVectorizer(stop_words='english')\n",
    "X_train_vec = vectorizer.fit_transform(X_train)\n",
    "X_test_vec = vectorizer.transform(X_test)\n",
    "\n",
    "# Step 5: Apply SMOTE to fix class imbalance\n",
    "smote = SMOTE(random_state=42)\n",
    "X_train_res, y_train_res = smote.fit_resample(X_train_vec, y_train)"
   ]
  },
  {
   "cell_type": "code",
   "execution_count": 73,
   "id": "d04e2b09-a4ee-48cf-b880-b7bcfdcdc57d",
   "metadata": {},
   "outputs": [
    {
     "name": "stdout",
     "output_type": "stream",
     "text": [
      "Logistic Regression:\n",
      "               precision    recall  f1-score   support\n",
      "\n",
      "           0       0.56      0.54      0.55       358\n",
      "           1       0.54      0.56      0.55       342\n",
      "\n",
      "    accuracy                           0.55       700\n",
      "   macro avg       0.55      0.55      0.55       700\n",
      "weighted avg       0.55      0.55      0.55       700\n",
      "\n",
      "Accuracy: 0.5485714285714286\n"
     ]
    }
   ],
   "source": [
    "# Model 1: Logistic Regression\n",
    "lr_model = LogisticRegression()\n",
    "lr_model.fit(X_train_res, y_train_res)\n",
    "y_pred_lr = lr_model.predict(X_test_vec)\n",
    "print(\"Logistic Regression:\\n\", classification_report(y_test, y_pred_lr))\n",
    "print(\"Accuracy:\", accuracy_score(y_test, y_pred_lr))"
   ]
  },
  {
   "cell_type": "code",
   "execution_count": 76,
   "id": "60781943-7c18-45a3-a331-84b1f7a592b0",
   "metadata": {},
   "outputs": [
    {
     "name": "stdout",
     "output_type": "stream",
     "text": [
      "Random Forest:\n",
      "               precision    recall  f1-score   support\n",
      "\n",
      "           0       0.53      0.50      0.52       358\n",
      "           1       0.51      0.54      0.52       342\n",
      "\n",
      "    accuracy                           0.52       700\n",
      "   macro avg       0.52      0.52      0.52       700\n",
      "weighted avg       0.52      0.52      0.52       700\n",
      "\n",
      "Accuracy: 0.5185714285714286\n"
     ]
    }
   ],
   "source": [
    "# Model 2: Random Forest\n",
    "rf_model = RandomForestClassifier()\n",
    "rf_model.fit(X_train_res, y_train_res)\n",
    "y_pred_rf = rf_model.predict(X_test_vec)\n",
    "print(\"Random Forest:\\n\", classification_report(y_test, y_pred_rf))\n",
    "print(\"Accuracy:\", accuracy_score(y_test, y_pred_rf))"
   ]
  },
  {
   "cell_type": "code",
   "execution_count": 77,
   "id": "5faad285-7b67-4677-a4a7-3e1d795ff2fc",
   "metadata": {},
   "outputs": [
    {
     "name": "stdout",
     "output_type": "stream",
     "text": [
      "SVM:\n",
      "               precision    recall  f1-score   support\n",
      "\n",
      "           0       0.57      0.47      0.52       358\n",
      "           1       0.53      0.63      0.58       342\n",
      "\n",
      "    accuracy                           0.55       700\n",
      "   macro avg       0.55      0.55      0.55       700\n",
      "weighted avg       0.55      0.55      0.55       700\n",
      "\n",
      "Accuracy: 0.5485714285714286\n"
     ]
    }
   ],
   "source": [
    "# Model 3: SVM\n",
    "svm_model = SVC(probability=True)\n",
    "svm_model.fit(X_train_res, y_train_res)\n",
    "y_pred_svm = svm_model.predict(X_test_vec)\n",
    "print(\"SVM:\\n\", classification_report(y_test, y_pred_svm))\n",
    "print(\"Accuracy:\", accuracy_score(y_test, y_pred_svm))"
   ]
  },
  {
   "cell_type": "code",
   "execution_count": 79,
   "id": "e8818ba9-df0a-46d9-9985-883325dd5d48",
   "metadata": {},
   "outputs": [
    {
     "name": "stdout",
     "output_type": "stream",
     "text": [
      "Naive Bayes:\n",
      "               precision    recall  f1-score   support\n",
      "\n",
      "           0       0.56      0.54      0.55       358\n",
      "           1       0.53      0.54      0.54       342\n",
      "\n",
      "    accuracy                           0.54       700\n",
      "   macro avg       0.54      0.54      0.54       700\n",
      "weighted avg       0.54      0.54      0.54       700\n",
      "\n",
      "Accuracy: 0.5442857142857143\n"
     ]
    }
   ],
   "source": [
    "# Model 4: Naive Bayes\n",
    "nb_model = MultinomialNB()\n",
    "nb_model.fit(X_train_res, y_train_res)\n",
    "y_pred_nb = nb_model.predict(X_test_vec)\n",
    "print(\"Naive Bayes:\\n\", classification_report(y_test, y_pred_nb))\n",
    "print(\"Accuracy:\", accuracy_score(y_test, y_pred_nb))"
   ]
  },
  {
   "cell_type": "markdown",
   "id": "7a6a8044-b950-4809-b96f-b071cbead802",
   "metadata": {},
   "source": [
    "##  Hyperparameter Tuning for Multiple Model"
   ]
  },
  {
   "cell_type": "code",
   "execution_count": 68,
   "id": "576bf11a-ed7c-42f2-a627-700e301d9d1f",
   "metadata": {},
   "outputs": [
    {
     "name": "stdout",
     "output_type": "stream",
     "text": [
      "Logistic Regression:\n",
      "               precision    recall  f1-score   support\n",
      "\n",
      "           0       0.56      0.54      0.55       358\n",
      "           1       0.54      0.56      0.55       342\n",
      "\n",
      "    accuracy                           0.55       700\n",
      "   macro avg       0.55      0.55      0.55       700\n",
      "weighted avg       0.55      0.55      0.55       700\n",
      "\n",
      "Accuracy: 0.5485714285714286\n",
      "Random Forest:\n",
      "               precision    recall  f1-score   support\n",
      "\n",
      "           0       0.55      0.54      0.54       358\n",
      "           1       0.53      0.54      0.54       342\n",
      "\n",
      "    accuracy                           0.54       700\n",
      "   macro avg       0.54      0.54      0.54       700\n",
      "weighted avg       0.54      0.54      0.54       700\n",
      "\n",
      "Accuracy: 0.54\n",
      "SVM:\n",
      "               precision    recall  f1-score   support\n",
      "\n",
      "           0       0.57      0.47      0.52       358\n",
      "           1       0.53      0.63      0.58       342\n",
      "\n",
      "    accuracy                           0.55       700\n",
      "   macro avg       0.55      0.55      0.55       700\n",
      "weighted avg       0.55      0.55      0.55       700\n",
      "\n",
      "Accuracy: 0.5485714285714286\n",
      "Naive Bayes:\n",
      "               precision    recall  f1-score   support\n",
      "\n",
      "           0       0.56      0.54      0.55       358\n",
      "           1       0.53      0.54      0.54       342\n",
      "\n",
      "    accuracy                           0.54       700\n",
      "   macro avg       0.54      0.54      0.54       700\n",
      "weighted avg       0.54      0.54      0.54       700\n",
      "\n",
      "Accuracy: 0.5442857142857143\n"
     ]
    }
   ],
   "source": [
    "# Imports\n",
    "import pandas as pd\n",
    "from sklearn.model_selection import train_test_split, GridSearchCV\n",
    "from sklearn.feature_extraction.text import TfidfVectorizer\n",
    "from sklearn.linear_model import LogisticRegression\n",
    "from sklearn.ensemble import RandomForestClassifier\n",
    "from sklearn.svm import SVC\n",
    "from sklearn.naive_bayes import MultinomialNB\n",
    "from sklearn.metrics import classification_report, accuracy_score\n",
    "from imblearn.over_sampling import SMOTE\n",
    "\n",
    "# Step 1: Clean the 'stars' column\n",
    "df['stars'] = df['stars'].astype(str).str.strip()\n",
    "df['stars'] = pd.to_numeric(df['stars'], errors='coerce')\n",
    "df = df.dropna(subset=['stars'])\n",
    "\n",
    "# Step 2: Create binary target label\n",
    "df['label'] = df['stars'].astype(int).apply(lambda x: 1 if x >= 4 else 0)\n",
    "\n",
    "# Step 3: Train-test split\n",
    "X_train, X_test, y_train, y_test = train_test_split(df['reviews'], df['label'], test_size=0.2, random_state=42)\n",
    "\n",
    "# Step 4: TF-IDF vectorization\n",
    "vectorizer = TfidfVectorizer(stop_words='english')\n",
    "X_train_vec = vectorizer.fit_transform(X_train)\n",
    "X_test_vec = vectorizer.transform(X_test)\n",
    "\n",
    "# Step 5: Apply SMOTE to fix class imbalance\n",
    "smote = SMOTE(random_state=42)\n",
    "X_train_res, y_train_res = smote.fit_resample(X_train_vec, y_train)\n",
    "\n",
    "# -------------------------------\n",
    "# Model 1: Logistic Regression\n",
    "lr_model = LogisticRegression()\n",
    "lr_model.fit(X_train_res, y_train_res)\n",
    "y_pred_lr = lr_model.predict(X_test_vec)\n",
    "print(\"Logistic Regression:\\n\", classification_report(y_test, y_pred_lr))\n",
    "print(\"Accuracy:\", accuracy_score(y_test, y_pred_lr))\n",
    "\n",
    "# Model 2: Random Forest\n",
    "rf_model = RandomForestClassifier()\n",
    "rf_model.fit(X_train_res, y_train_res)\n",
    "y_pred_rf = rf_model.predict(X_test_vec)\n",
    "print(\"Random Forest:\\n\", classification_report(y_test, y_pred_rf))\n",
    "print(\"Accuracy:\", accuracy_score(y_test, y_pred_rf))\n",
    "\n",
    "# Model 3: SVM\n",
    "svm_model = SVC(probability=True)\n",
    "svm_model.fit(X_train_res, y_train_res)\n",
    "y_pred_svm = svm_model.predict(X_test_vec)\n",
    "print(\"SVM:\\n\", classification_report(y_test, y_pred_svm))\n",
    "print(\"Accuracy:\", accuracy_score(y_test, y_pred_svm))\n",
    "\n",
    "# Model 4: Naive Bayes\n",
    "nb_model = MultinomialNB()\n",
    "nb_model.fit(X_train_res, y_train_res)\n",
    "y_pred_nb = nb_model.predict(X_test_vec)\n",
    "print(\"Naive Bayes:\\n\", classification_report(y_test, y_pred_nb))\n",
    "print(\"Accuracy:\", accuracy_score(y_test, y_pred_nb))\n"
   ]
  },
  {
   "cell_type": "code",
   "execution_count": 84,
   "id": "23cc5abc-718e-4164-a452-b69cb28ea492",
   "metadata": {},
   "outputs": [],
   "source": [
    "# Clean the reviews\n",
    "import re\n",
    "def clean_text(text):\n",
    "    text = text.lower()\n",
    "    text = re.sub(r'<.*?>', '', text)  # Remove HTML\n",
    "    text = re.sub(r'[^a-z\\s]', '', text)  # Remove non-letters\n",
    "    text = re.sub(r'\\s+', ' ', text).strip()\n",
    "    return text\n",
    "\n",
    "df['reviews_clean'] = df['reviews'].astype(str).apply(clean_text)\n",
    "\n",
    "# TF-IDF with bigrams\n",
    "from sklearn.feature_extraction.text import TfidfVectorizer\n",
    "vectorizer = TfidfVectorizer(stop_words='english', ngram_range=(1,2), max_features=10000)\n",
    "X_train_vec = vectorizer.fit_transform(X_train)\n",
    "X_test_vec = vectorizer.transform(X_test)\n"
   ]
  },
  {
   "cell_type": "code",
   "execution_count": 131,
   "id": "00f6f58a-3c2b-4635-abe0-fe4b4608c8fb",
   "metadata": {},
   "outputs": [
    {
     "name": "stdout",
     "output_type": "stream",
     "text": [
      "Logistic Regression:\n",
      "              precision    recall  f1-score   support\n",
      "\n",
      "           0       0.56      0.47      0.51       358\n",
      "           1       0.53      0.61      0.57       342\n",
      "\n",
      "    accuracy                           0.54       700\n",
      "   macro avg       0.54      0.54      0.54       700\n",
      "weighted avg       0.54      0.54      0.54       700\n",
      "\n",
      "Accuracy: 0.54\n",
      "\n",
      "Random Forest:\n",
      "              precision    recall  f1-score   support\n",
      "\n",
      "           0       0.54      0.43      0.48       358\n",
      "           1       0.51      0.62      0.56       342\n",
      "\n",
      "    accuracy                           0.52       700\n",
      "   macro avg       0.53      0.53      0.52       700\n",
      "weighted avg       0.53      0.52      0.52       700\n",
      "\n",
      "Accuracy: 0.5228571428571429\n",
      "\n",
      "SVM:\n",
      "              precision    recall  f1-score   support\n",
      "\n",
      "           0       0.57      0.45      0.50       358\n",
      "           1       0.53      0.65      0.58       342\n",
      "\n",
      "    accuracy                           0.55       700\n",
      "   macro avg       0.55      0.55      0.54       700\n",
      "weighted avg       0.55      0.55      0.54       700\n",
      "\n",
      "Accuracy: 0.5471428571428572\n",
      "\n",
      "Naive Bayes:\n",
      "              precision    recall  f1-score   support\n",
      "\n",
      "           0       0.56      0.38      0.45       358\n",
      "           1       0.51      0.69      0.59       342\n",
      "\n",
      "    accuracy                           0.53       700\n",
      "   macro avg       0.54      0.53      0.52       700\n",
      "weighted avg       0.54      0.53      0.52       700\n",
      "\n",
      "Accuracy: 0.53\n"
     ]
    }
   ],
   "source": [
    "# Step 1: Clean 'stars' column\n",
    "df['stars'] = df['stars'].astype(str).str.strip()\n",
    "df['stars'] = pd.to_numeric(df['stars'], errors='coerce')\n",
    "df = df.dropna(subset=['stars'])\n",
    "\n",
    "# Step 2: Create binary label\n",
    "df['label'] = df['stars'].astype(int).apply(lambda x: 1 if x >= 4 else 0)\n",
    "\n",
    "# Step 3: Clean text reviews\n",
    "def clean_text(text):\n",
    "    text = str(text).lower()\n",
    "    text = re.sub(r'<.*?>', '', text)\n",
    "    text = re.sub(r'[^a-z\\s]', '', text)\n",
    "    text = re.sub(r'\\s+', ' ', text).strip()\n",
    "    return text\n",
    "\n",
    "df['reviews_clean'] = df['reviews'].apply(clean_text)\n",
    "\n",
    "# Step 4: Train/test split\n",
    "X_train, X_test, y_train, y_test = train_test_split(df['reviews_clean'], df['label'], test_size=0.2, random_state=42)\n",
    "\n",
    "# Step 5: TF-IDF Vectorization with Bigrams\n",
    "vectorizer = TfidfVectorizer(stop_words='english', ngram_range=(1, 2), max_features=10000)\n",
    "X_train_vec = vectorizer.fit_transform(X_train)\n",
    "X_test_vec = vectorizer.transform(X_test)\n",
    "\n",
    "# Step 6: Train models and evaluate\n",
    "\n",
    "# Logistic Regression\n",
    "lr_model = LogisticRegression()\n",
    "lr_model.fit(X_train_vec, y_train)\n",
    "y_pred_lr = lr_model.predict(X_test_vec)\n",
    "print(\"Logistic Regression:\")\n",
    "print(classification_report(y_test, y_pred_lr))\n",
    "print(\"Accuracy:\", accuracy_score(y_test, y_pred_lr))\n",
    "\n",
    "# Random Forest\n",
    "rf_model = RandomForestClassifier()\n",
    "rf_model.fit(X_train_vec, y_train)\n",
    "y_pred_rf = rf_model.predict(X_test_vec)\n",
    "print(\"\\nRandom Forest:\")\n",
    "print(classification_report(y_test, y_pred_rf))\n",
    "print(\"Accuracy:\", accuracy_score(y_test, y_pred_rf))\n",
    "\n",
    "# SVM\n",
    "svm_model = SVC(probability=True)\n",
    "svm_model.fit(X_train_vec, y_train)\n",
    "y_pred_svm = svm_model.predict(X_test_vec)\n",
    "print(\"\\nSVM:\")\n",
    "print(classification_report(y_test, y_pred_svm))\n",
    "print(\"Accuracy:\", accuracy_score(y_test, y_pred_svm))\n",
    "\n",
    "# Naive Bayes\n",
    "nb_model = MultinomialNB()\n",
    "nb_model.fit(X_train_vec, y_train)\n",
    "y_pred_nb = nb_model.predict(X_test_vec)\n",
    "print(\"\\nNaive Bayes:\")\n",
    "print(classification_report(y_test, y_pred_nb))\n",
    "print(\"Accuracy:\", accuracy_score(y_test, y_pred_nb))"
   ]
  },
  {
   "cell_type": "markdown",
   "id": "f6c1bacf-cbb6-4260-8816-aed1448e79a6",
   "metadata": {},
   "source": [
    "# Logistic Regression (L2 Regularization)"
   ]
  },
  {
   "cell_type": "code",
   "execution_count": 133,
   "id": "501af819-9094-4ad4-97a2-daa9cf59dca1",
   "metadata": {},
   "outputs": [
    {
     "name": "stdout",
     "output_type": "stream",
     "text": [
      "Logistic Regression Cross-validation Scores:  [0.525      0.51071429 0.55892857 0.53571429 0.5509839 ]\n",
      "Mean Cross-validation Accuracy:  0.5362682085356504\n"
     ]
    }
   ],
   "source": [
    "from sklearn.model_selection import cross_val_score\n",
    "from sklearn.linear_model import LogisticRegression\n",
    "\n",
    "# Logistic Regression with L2 Regularization and cross-validation\n",
    "lr_model = LogisticRegression(penalty='l2', solver='liblinear')\n",
    "\n",
    "# Perform 5-fold cross-validation\n",
    "cv_scores_lr = cross_val_score(lr_model, X_train_vec, y_train, cv=5, scoring='accuracy')\n",
    "\n",
    "print(\"Logistic Regression Cross-validation Scores: \", cv_scores_lr)\n",
    "print(\"Mean Cross-validation Accuracy: \", cv_scores_lr.mean())\n"
   ]
  },
  {
   "cell_type": "markdown",
   "id": "ed412bf5-5450-408b-8fcb-195206714cc9",
   "metadata": {},
   "source": [
    "#  Random Forest:"
   ]
  },
  {
   "cell_type": "code",
   "execution_count": null,
   "id": "aa20d2b6-f692-4bc9-9f51-f0f5ec6979b2",
   "metadata": {},
   "outputs": [],
   "source": [
    "from sklearn.ensemble import RandomForestClassifier\n",
    "from sklearn.model_selection import GridSearchCV\n",
    "\n",
    "# Define parameter grid for Random Forest\n",
    "param_grid_rf = {\n",
    "    'n_estimators': [50, 100, 200],\n",
    "    'max_depth': [None, 10, 20, 30],\n",
    "    'min_samples_split': [2, 5, 10]\n",
    "}\n",
    "\n",
    "# GridSearchCV for hyperparameter tuning\n",
    "rf_model = RandomForestClassifier(random_state=42)\n",
    "grid_search_rf = GridSearchCV(estimator=rf_model, param_grid=param_grid_rf, cv=5, scoring='accuracy')\n",
    "grid_search_rf.fit(X_train_vec, y_train)\n",
    "\n",
    "print(\"Best Parameters for Random Forest: \", grid_search_rf.best_params_)\n",
    "print(\"Best Cross-validation Score: \", grid_search_rf.best_score_)\n"
   ]
  },
  {
   "cell_type": "markdown",
   "id": "710704ba-1bd3-4905-a5d7-5e5e93d5fb6d",
   "metadata": {},
   "source": [
    "# SVM (Support Vector Machine):"
   ]
  },
  {
   "cell_type": "code",
   "execution_count": null,
   "id": "0f04244d-8fd0-47a4-9f6f-8820a09940bc",
   "metadata": {},
   "outputs": [],
   "source": [
    "from sklearn.svm import SVC\n",
    "from sklearn.model_selection import GridSearchCV\n",
    "\n",
    "# Define parameter grid for SVM\n",
    "param_grid_svm = {\n",
    "    'C': [0.1, 1, 10],\n",
    "    'kernel': ['linear', 'rbf', 'poly']\n",
    "}\n",
    "\n",
    "# GridSearchCV for hyperparameter tuning\n",
    "svm_model = SVC(random_state=42)\n",
    "grid_search_svm = GridSearchCV(estimator=svm_model, param_grid=param_grid_svm, cv=5, scoring='accuracy')\n",
    "grid_search_svm.fit(X_train_vec, y_train)\n",
    "\n",
    "print(\"Best Parameters for SVM: \", grid_search_svm.best_params_)\n",
    "print(\"Best Cross-validation Score: \", grid_search_svm.best_score_)\n"
   ]
  },
  {
   "cell_type": "code",
   "execution_count": null,
   "id": "5e0d28de-79cc-4436-8787-f118447e70c4",
   "metadata": {},
   "outputs": [],
   "source": [
    "import joblib\n",
    "\n",
    "# Save the Random Forest model to a file\n",
    "joblib.dump(best_rf_model, 'best_random_forest_model.pkl')\n"
   ]
  },
  {
   "cell_type": "code",
   "execution_count": null,
   "id": "e4c47086-e1c7-4e2c-9ed8-33a7dca31e19",
   "metadata": {},
   "outputs": [],
   "source": []
  }
 ],
 "metadata": {
  "kernelspec": {
   "display_name": "Python [conda env:base] *",
   "language": "python",
   "name": "conda-base-py"
  },
  "language_info": {
   "codemirror_mode": {
    "name": "ipython",
    "version": 3
   },
   "file_extension": ".py",
   "mimetype": "text/x-python",
   "name": "python",
   "nbconvert_exporter": "python",
   "pygments_lexer": "ipython3",
   "version": "3.11.5"
  }
 },
 "nbformat": 4,
 "nbformat_minor": 5
}
